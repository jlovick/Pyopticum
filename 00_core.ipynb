{
 "cells": [
  {
   "cell_type": "code",
   "execution_count": null,
   "metadata": {},
   "outputs": [],
   "source": [
    "# default_exp core"
   ]
  },
  {
   "cell_type": "markdown",
   "metadata": {},
   "source": [
    "# Pyopticum\n",
    "\n",
    "> API details."
   ]
  },
  {
   "cell_type": "code",
   "execution_count": null,
   "metadata": {},
   "outputs": [],
   "source": [
    "#hide\n",
    "from nbdev.showdoc import *\n",
    "import os"
   ]
  },
  {
   "cell_type": "markdown",
   "metadata": {},
   "source": [
    "### First of all lets do some imports"
   ]
  },
  {
   "cell_type": "code",
   "execution_count": null,
   "metadata": {},
   "outputs": [
    {
     "data": {
      "text/html": [
       "Using Ipython"
      ],
      "text/plain": [
       "<IPython.core.display.HTML object>"
      ]
     },
     "metadata": {},
     "output_type": "display_data"
    }
   ],
   "source": [
    "#export\n",
    "#nbdev_comment from __future__ import print_function\n",
    "from typing import overload\n",
    "import random\n",
    "\n",
    "import pint\n",
    "\n",
    "#from functools import singledispatch \n",
    "from multipledispatch import dispatch\n",
    "\n",
    "import math\n",
    "import inspect\n",
    "import os\n",
    "import pytest\n",
    "import ipytest\n",
    "ipytest.autoconfig()\n",
    "\n",
    "\n",
    "try:\n",
    "      from IPython.display import display, Math, Latex, HTML, Markdown\n",
    "      display(HTML(\"Using Ipython\"))\n",
    "      ascii_print = print\n",
    "      def print(*args, **kwargs):\n",
    "        for item in args:\n",
    "            display(item)\n",
    "\n",
    "except ImportError:\n",
    "      from bs4 import BeautifulSoup\n",
    "      from markdown import markdown\n",
    "      print(\"unable to import IPython, ignoring, using basic print\")\n",
    "\n",
    "\n",
    "### Lets set up Pint with some useful extra entities\n",
    "\n",
    "#export\n",
    "ureg = pint.UnitRegistry()\n",
    "ureg.define('Circle_of_confusion = [] = coc')\n",
    "ureg.define('Aperture = [] = fnumber')"
   ]
  },
  {
   "cell_type": "code",
   "execution_count": null,
   "metadata": {},
   "outputs": [],
   "source": []
  },
  {
   "cell_type": "markdown",
   "metadata": {},
   "source": [
    "### Define a base class that make POD members availible at top layer as attributes"
   ]
  },
  {
   "cell_type": "code",
   "execution_count": null,
   "metadata": {},
   "outputs": [],
   "source": [
    "#export\n",
    "class Help_system:\n",
    "    def __init__(self):\n",
    "        pass\n",
    "\n",
    "    def initialize_help_system(self):\n",
    "        #print(f\"createing help system\")\n",
    "        self.__dict__['ureg'] = pint.UnitRegistry()\n",
    "        self.__dict__['is_ipython'] = self.__is_running_under_ipython()\n",
    "        if self.is_ipython:\n",
    "            self.ureg.default_format = \"L\"\n",
    "        else:\n",
    "            self.ureg.default_format = \"P\"\n",
    "        self.__dict__[\"echo_params\"] = False\n",
    "\n",
    "    def __is_running_under_ipython(self):\n",
    "        try:\n",
    "            get_ipython\n",
    "            return True\n",
    "        except:\n",
    "            return False\n",
    "\n",
    "    def wrap_unit(self, eqn, style):\n",
    "        if (self.is_ipython):\n",
    "            if style.lower() == \"math\":\n",
    "                return Math(eqn)\n",
    "            if style.lower() == \"html\":\n",
    "                return HTML(eqn)\n",
    "            if style.lower() == \"latex\":\n",
    "                return Latex(eqn)\n",
    "            if style.lower() == \"markdown\":\n",
    "                return Markdown(eqn)\n",
    "        else:\n",
    "            if style.lower() == \"html\":\n",
    "                soup = BeautifulSoup(eqn)\n",
    "                return soup.get_text()\n",
    "            if style.lower() == \"markdown\":\n",
    "                html = markdown(eqn)\n",
    "                soup = BeautifulSoup(html, features='html.parser')\n",
    "                return soup.get_text()\n",
    "        return eqnprint\n",
    "\n",
    "    def help(self, command):\n",
    "        \"\"\"\n",
    "        runs the help function for the command\n",
    "        \"\"\"\n",
    "        method_to_call = getattr(self, command+'_help')\n",
    "        result = method_to_call()\n",
    "    \n",
    "    def noisy_params(self):\n",
    "        self.__dict__['echo_params'] = True\n",
    "        \n",
    "    def silence_params(self):\n",
    "        self.__dict__['echo_params'] = False"
   ]
  },
  {
   "cell_type": "code",
   "execution_count": null,
   "metadata": {},
   "outputs": [],
   "source": []
  },
  {
   "cell_type": "code",
   "execution_count": null,
   "metadata": {},
   "outputs": [],
   "source": [
    "#export\n",
    "class Lens(Help_system):\n",
    "    class Raw_lens_data():\n",
    "        def __init__(self):\n",
    "            self.focal_length = 0*ureg.mm\n",
    "            self.aperture = 0*ureg.Aperture\n",
    "            self.focus_distance = 0 * ureg.meters\n",
    "            \n",
    "\n",
    "\n",
    "    @ureg.wraps(None,(None,'mm','Aperture','m'))\n",
    "    def __init__(self, focal_length=40*ureg.mm, aperture=2.0*ureg.Aperture, focus_distance=4.0*ureg.meters):\n",
    "        # system setup\n",
    "        self.initialize_help_system()\n",
    "        self.__dict__['class_preamble'] = self.__class__.__name__\n",
    "        self.__dict__['pod_name'] = \"lens_data\"\n",
    "        self.__dict__[self.pod_name] = self.Raw_lens_data()\n",
    "\n",
    "        self.lens_data.focal_length = focal_length*ureg.mm\n",
    "        self.lens_data.aperture = aperture*ureg.Aperture\n",
    "        self.lens_data.focus_distance = focus_distance*ureg.meters\n",
    "\n",
    "    @property\n",
    "    @ureg.wraps('mm',(None))\n",
    "    def focal_length(self):\n",
    "        return self.lens_data.focal_length\n",
    "    \n",
    "    @focal_length.setter\n",
    "    def focal_length(self,args):\n",
    "        if isinstance(args,(int,float)):\n",
    "            self.lens_data.focal_length = args*ureg.mm\n",
    "            return\n",
    "        try:\n",
    "            if not (args.check('[length]')):\n",
    "                raise Exception(f\"die setter is not suitable quantity (mm) {args}\")\n",
    "            self.lens_data.focal_length = args\n",
    "        except:\n",
    "            raise Exception(f\"die setter is not suitable quantity (mm) {args}\")\n",
    "            \n",
    "    @property\n",
    "    @ureg.wraps('Aperture',(None))\n",
    "    def aperture(self):\n",
    "        return self.lens_data.aperture\n",
    "    \n",
    "    @aperture.setter\n",
    "    def aperture(self,inargs):\n",
    "        if isinstance(inargs,(int,float)):\n",
    "            self.lens_data.aperture = inargs*ureg.Aperture\n",
    "            return\n",
    "        if isinstance(inargs, ureg.Aperture):\n",
    "            self.lens_data.aperture = inargs\n",
    "        else:\n",
    "            raise Exception(f\"aperture is not suitable quantity (Aperture) {inargs}\")\n",
    "    \n",
    "    @property\n",
    "    @ureg.wraps('mm',(None))\n",
    "    def focus_distance(self):\n",
    "        return self.lens_data.focus_distance\n",
    "    \n",
    "    @focus_distance.setter\n",
    "    def focus_distance(self, inargs):\n",
    "        if isinstance(inargs,(int,float)):\n",
    "            self.lens_data.focus_distance = inargs*ureg.m\n",
    "            return\n",
    "        try:\n",
    "            if not (args.check('[length]')):\n",
    "                raise Exception(f\"focus_distance is not suitable quantity (m) {inargs}\")\n",
    "            self.lens_data.focus_distance = inargs\n",
    "        except:\n",
    "            raise Exception(f\"focus_distance is not suitable quantity (m) {inargs}\")\n",
    "\n"
   ]
  },
  {
   "cell_type": "code",
   "execution_count": null,
   "metadata": {},
   "outputs": [],
   "source": [
    "#export\n",
    "class Sensor(Help_system):\n",
    "    \"\"\"\n",
    "    class to hold sensor data and methods\n",
    "    \"\"\"\n",
    "    class Raw_sensor_data:\n",
    "        def __init__(self):\n",
    "            self.die_size = (0,0)\n",
    "            self.pixel_size = (0,0)\n",
    "            self.diagonal = 0\n",
    "            self.circle_of_confusion = 0\n",
    "            self.circle_of_confusion_method = \"Modern\"\n",
    "\n",
    "    @ureg.wraps(None, (None, 'mm','mm','micrometer','micrometer'))\n",
    "    def __init__(self, die_size_x,die_size_y, pixel_size_x,pixel_size_y):\n",
    "        # system setup\n",
    "        self.initialize_help_system()\n",
    "        self.__dict__['class_preamble'] = self.__class__.__name__\n",
    "        self.__dict__['pod_name'] = \"sensor_data\"\n",
    "        self.__dict__[self.pod_name] = self.Raw_sensor_data()\n",
    "        #class variable setup\n",
    "        self.sensor_data.die_size = (die_size_x*ureg.mm,   die_size_y*ureg.mm)\n",
    "        self.sensor_data.diagonal = self.diagonal\n",
    "        self.sensor_data.pixel_size = (pixel_size_x *ureg.micrometer,pixel_size_y * ureg.micrometer)\n",
    "        self.sensor_data.circle_of_confusion_method = \"Modern\"\n",
    "        self.calculate_circle_of_confusion()\n",
    "\n",
    "    @property\n",
    "    def die_size(self):\n",
    "        \"\"\"\n",
    "        the size of the physical sensor\n",
    "        \"\"\"\n",
    "        return self.sensor_data.die_size\n",
    "    \n",
    "    @die_size.setter\n",
    "    def die_size(self,args):\n",
    "        if len(args) > 2:\n",
    "            raise Exception(\"die_size args should size 2, (x,y) \")\n",
    "        in_x = args[0]\n",
    "        in_y = args[1]\n",
    "        try:\n",
    "            if not (in_x.check('[length]') & in_y.check('[length]')):\n",
    "                raise Exception(f\"die setter is not suitable quantity (mm,mm) {in_x},{in_y}\")\n",
    "        except:\n",
    "            raise Exception(f\"die setter is not suitable quantity (mm,mm) {in_x},{in_y}\")\n",
    "\n",
    "        self.sensor_data.die_size = (in_x,in_y)\n",
    "        \n",
    "    \n",
    "    @die_size.deleter\n",
    "    def die_size(self):\n",
    "        self.sensor_data.die_size = (None, None)\n",
    "        self.sensor_data.diagonal = None\n",
    "    \n",
    "    @property\n",
    "    @ureg.wraps('mm',(None))\n",
    "    def diagonal(self):\n",
    "        \"\"\"\n",
    "        The diagonal size of the sensor (re-calculated upon calling)\n",
    "        \"\"\"\n",
    "        self.sensor_data.diagonal = math.sqrt( math.pow(self.sensor_data.die_size[0].magnitude,2) \n",
    "                                              + math.pow(self.sensor_data.die_size[1].magnitude,2) )*ureg.mm\n",
    "        return self.sensor_data.diagonal\n",
    "    \n",
    "    @diagonal.setter\n",
    "    def diagonal(self,args):\n",
    "        raise Exception(\"Diagonal is Read Only\")\n",
    "        \n",
    "    @diagonal.deleter\n",
    "    def diagonal(self):\n",
    "        self.sensor_data.diagonal = None\n",
    "    \n",
    "    @property\n",
    "    def pixel_size(self):\n",
    "        return self.sensor_data.pixel_size\n",
    "\n",
    "    @pixel_size.setter\n",
    "    def pixel_size(self, args):\n",
    "        if len(args) > 2:\n",
    "            raise Exception(\"pixel_size args should size 2, (x,y) \")\n",
    "        in_x = args[0]\n",
    "        in_y = args[1]\n",
    "        try:\n",
    "            if not (in_x.check('[length]') & in_y.check('[length]')):\n",
    "                raise Exception(f\"die setter is not suitable quantity (um,um) {in_x},{in_y}\")\n",
    "        except:\n",
    "            raise Exception(f\"die setter is not suitable quantity (um,um) {in_x},{in_y}\")\n",
    "\n",
    "        self.sensor_data.pixel_size = (in_x,in_y)\n",
    "        \n",
    "    \n",
    "    @pixel_size.deleter\n",
    "    def pixel_size(self):\n",
    "        self.sensor_data.pixel_size = (None,None)\n",
    "        self.sensor_data.circle_of_confusion = None \n",
    "\n",
    "                \n",
    "    @property\n",
    "    def circle_of_confusion_method(self):\n",
    "        return self.sensor_data.circle_of_confusion_method\n",
    "    \n",
    "    @circle_of_confusion_method.setter\n",
    "    def circle_of_confusion_method(self, in_args ):\n",
    "        #method=\"modern\",*args, **kwargs):\n",
    "        if isinstance(in_args,str):\n",
    "            method = in_args\n",
    "        elif len(in_args) == 2:\n",
    "            method = in_args[0]\n",
    "            focus_object = in_args[1]\n",
    "        else:\n",
    "            raise LookupError(f\"Too many arguments in the supplied arguments [{len(in_args)}] {in_args}\")\n",
    "        \n",
    "        coc_method = [ \"modern\", \"zeiss\",\"kodak\", \"archaic\" ]\n",
    "        if method not in coc_method:\n",
    "            raise ValueError(f\"Circle of confusion method not supported [{method}]\")\n",
    "        self.sensor_data.circle_of_confusion_method = method\n",
    "        \n",
    "        \n",
    "        if method == \"kodak\":\n",
    "            self.calculate_circle_of_confusion(focus_object)\n",
    "        else:\n",
    "            self.calculate_circle_of_confusion()\n",
    "        \n",
    "\n",
    "    @circle_of_confusion_method.deleter\n",
    "    def circle_of_confusion_method(self):\n",
    "        self.sensor_data.circle_of_confusion_method = \"modern\"\n",
    "        self.sensor_data.circle_of_confusion = None\n",
    "                \n",
    "    \n",
    "    def circle_of_confusion_help(self)->None:\n",
    "        print(HTML(\"<H2>Circle of Confusion</H2>\"))\n",
    "        print(HTML(\"Modern, Standard Method (Default)\tFrame’s diagonal / 1500\"))\n",
    "        print(HTML(\"Zeiss, Formula\tFrame’s diagonal / 1730\"))\n",
    "        print(HTML(\"Kodak, Formula\tFocal length / 1720\"))\n",
    "        print(HTML(\"Archaic, Standard\tFrame’s diagonal / 1000\"))\n",
    "        print(HTML(\"<code> circle_confusion(frame_diagonal,focal_length,method = 'modern')</code>\"))\n",
    "        return 1\n",
    "\n",
    "    @property\n",
    "    def circle_of_confusion(self):\n",
    "        if (self.sensor_data.circle_of_confusion is None):\n",
    "            raise Exception(f\" Circle of confusion has not been calculated yet\")\n",
    "        \n",
    "        return self.sensor_data.circle_of_confusion \n",
    "    \n",
    "    \n",
    "    @dispatch( ureg.Quantity )\n",
    "    def calculate_circle_of_confusion(self, inarg):\n",
    "        #ok we have been given a lens length\n",
    "        if self.sensor_data.circle_of_confusion_method.lower() != \"kodak\":\n",
    "            raise Exception(\"Given a lens length, but circle of confusion method is not kodak\")\n",
    "        self.__calculate_circle_of_confusion(inarg)\n",
    "    \n",
    "    @dispatch( Lens )\n",
    "    def calculate_circle_of_confusion(self, inarg):\n",
    "        self.__calculate_circle_of_confusion(inarg)\n",
    "        \n",
    "    @dispatch()\n",
    "    def calculate_circle_of_confusion(self):\n",
    "        self.__calculate_circle_of_confusion(0*ureg.mm)\n",
    "        \n",
    "    def __calculate_circle_of_confusion(self, inarg):\n",
    "        \n",
    "        def modern(frame_diagonal, ignore):\n",
    "            return frame_diagonal/1500\n",
    "        def zeiss(frame_diagonal, ignore):\n",
    "            return frame_diagonal/1730\n",
    "        def kodak(ignore, focal_length):\n",
    "            return focal_length/1720\n",
    "        def archaic(frame_diagonal, ignore):\n",
    "            return frame_diagonal/1000\n",
    "        \n",
    "        coc_method = { \"modern\": modern,\n",
    "                      \"zeiss\": zeiss,\n",
    "                      \"kodak\": kodak,\n",
    "                      \"archaic\": archaic}\n",
    "        focal_length = 0\n",
    "        if isinstance(inarg,Lens):\n",
    "            focal_length = inarg.focal_length\n",
    "        elif(self.sensor_data.circle_of_confusion_method.lower() == 'kodak' ):\n",
    "            try:\n",
    "                if not (inarg.check('[length]')):\n",
    "                    raise Exception(f\"focal length is not suitable quantity (mm) {inarg}\")\n",
    "            except:\n",
    "                raise Exception(f\"focal length is not suitable quantity (mm) {inarg}\")\n",
    "            #ok looks like we can use this as a focal length\n",
    "            focal_length = in_arg\n",
    "            \n",
    "        if self.sensor_data.circle_of_confusion_method.lower() not in coc_method:\n",
    "            raise ValueError(f\"Unknown Circle of Confusion Method {method}\")\n",
    "\n",
    "        #if focal_length\n",
    "        coc = coc_method.get(self.sensor_data.circle_of_confusion_method.lower())(self.sensor_data.diagonal,focal_length)\n",
    "        self.sensor_data.circle_of_confusion = (coc.magnitude) * ureg['mm']\n",
    "    \n",
    "    @circle_of_confusion.deleter\n",
    "    def circle_of_confusion(self):\n",
    "        self.sensor_data.circle_of_confusion = None\n",
    "        \n",
    "    \n",
    "                "
   ]
  },
  {
   "cell_type": "code",
   "execution_count": null,
   "metadata": {},
   "outputs": [],
   "source": [
    "#export \n",
    "class Camera(Help_system):\n",
    "    class Camera_data:\n",
    "        def __init__(self):\n",
    "            self.angle_of_view = (None,None)\n",
    "            self.field_of_view = (None,None)\n",
    "            \n",
    "    def __init__(self, sensor: Sensor, lens: Lens):\n",
    "        # system setup\n",
    "        self.initialize_help_system()\n",
    "        self.__dict__['class_preamble'] = self.__class__.__name__\n",
    "        self.__dict__['pod_name'] = \"camera_data\"\n",
    "        self.__dict__[self.pod_name] = self.Camera_data()\n",
    "        \n",
    "        self.sensor = sensor\n",
    "        self.lens = lens\n",
    "    \n",
    "    def replace_lens(self, inlens: Lens):\n",
    "        if not isinstance(inlens, Lens):\n",
    "            raise Exception(f\" passed object is not a lens\")\n",
    "        self.lens = inlens\n",
    "    \n",
    "    def replace_senspr(self, insensor: Sensor):\n",
    "        if not isinstance(insensor, Sensor):\n",
    "            raise Exception(f\" passed object is not a sensor\")\n",
    "        self.sensor = insensor\n",
    "        \n",
    "    def angle_of_view_help(self):\n",
    "        print(HTML(\"<h2>Angle of view</h2>\"))\n",
    "        print(HTML(\"<span>Figures out the witdh of the angle of view, given sensor / lens characteristics.</span>\"))\n",
    "        print(self.wrap_unit(r\"\\theta=2\\cdot\\arctan\\left(\\frac{h(s-f)}{2sf}\\right)\",\"math\"))\n",
    "        print(HTML(\"<code> angle_of_view(frame_dimension, focal_length, focus_distance)</code>\"))\n",
    "\n",
    "    @ureg.wraps(('radians','radians'),(None))\n",
    "    def angle_of_view(self):\n",
    "        aov_x = 2.0 * math.atan(((self.sensor.die_size[0] * (self.lens.focus_distance - self.lens.focal_length))/(2*self.lens.focus_distance*self.lens.focal_length)).magnitude)\n",
    "        aov_y = 2.0 * math.atan(((self.sensor.die_size[1] * (self.lens.focus_distance - self.lens.focal_length))/(2*self.lens.focus_distance*self.lens.focal_length)).magnitude)\n",
    "        self.camera_data.angle_of_view = (aov_x * ureg.radians ,aov_y * ureg.radians)\n",
    "        return self.camera_data.angle_of_view\n",
    "  \n",
    "    def field_of_view_help(self):\n",
    "        print(self.wrap_unit(\"<h2>Field of View</h2>\",\"html\"))\n",
    "        print(self.wrap_unit(\"<a> implementation of this equation </a>\",\"html\"))\n",
    "        print(self.wrap_unit(r'w=2s\\cdot\\tan\\left(\\frac{\\theta}{2}\\right)',\"Math\"))\n",
    "\n",
    "    @ureg.wraps(('m','m'),(None))\n",
    "    def field_of_view(self):\n",
    "        if self.camera_data.angle_of_view[0] is None:\n",
    "            self.angle_of_view()\n",
    "        view_width_x = 2*self.lens.focus_distance*math.tan( self.camera_data.angle_of_view[0] / 2.0)\n",
    "        view_width_y = 2*self.lens.focus_distance*math.tan( self.camera_data.angle_of_view[1] / 2.0)\n",
    "        print(f\" view width {view_width_x},{view_width_y}\")\n",
    "        self.camera_data.field_of_view = (view_width_x, view_width_y)\n",
    "        return self.camera_data.field_of_view\n",
    "\n",
    "    def hyperfocal_distance_help(self):\n",
    "        print(HTML(\"<H2>Hyperfocal Distance</H2>\"))\n",
    "        print(HTML(\"<span> calculates hyperfocal distance\"))\n",
    "        print(self.wrap_unit(r\"H=\\frac{f^{2}}{N\\cdot{c}}+f\",\"Math\"))\n",
    "\n",
    "    @ureg.wraps(ureg.meters, (None))\n",
    "    def hyperfocal_distance(self):\n",
    "        # aperture for us is unitless but really is should be in 1/m \n",
    "        # TODO fix aperture to be correct units\n",
    "        bottom = (1/(self.lens.aperture.magnitude*self.sensor.circle_of_confusion.magnitude))\n",
    "        hfd = (pow(self.lens.focal_length.magnitude,2)/(bottom)+self.lens.focal_length.magnitude)\n",
    "        return hfd*ureg('m')\n",
    "    \n",
    "    def near_DOF_limit_help(self):\n",
    "        print(HTML(\"<H2>Near Depth of Field</H2>\"))\n",
    "        print(self.wrap_unit(r\"D_{n}=\\frac{s(H-f)}{H+s-2f}\",\"Math\"))\n",
    "        \n",
    "    @ureg.wraps(ureg.meters,(None))\n",
    "    def near_DOF_limit(self):\n",
    "        top = self.lens.focus_distance*(self.hyperfocal_distance() -self.lens.focal_length)\n",
    "        bottom = self.hyperfocal_distance() + self.lens.focus_distance - 2*self.lens.focal_length\n",
    "        return top/bottom\n",
    "    \n",
    "    def far_DOF_limit_help(self):\n",
    "        print(HTML(\"<H2>Far Depth of Field</H2>\"))\n",
    "        print(self.wrap_unit(r\"D_{f}=\\frac{s(H-f)}{H-s}\",\"Math\"))\n",
    "    \n",
    "    @ureg.wraps(ureg.meters,(None))\n",
    "    def far_DOF_limit(self):\n",
    "        top = self.lens.focus_distance*(self.hyperfocal_distance() -self.lens.focal_length)\n",
    "        bottom = self.hyperfocal_distance() - self.lens.focus_distance\n",
    "        return top/bottom\n",
    "    \n",
    "    def DOF_help(self):\n",
    "        print(HTML(\"<H2>Depth of Field</H2>\"))\n",
    "        print(self.wrap_unit(r\"DOF = Far Limit - Near Limt\",\"Math\"))\n",
    "        \n",
    "    @ureg.wraps(ureg.meters,(None))\n",
    "    def DOF(self):\n",
    "        return self.far_DOF_limit() - self.near_DOF_limit()\n",
    "    "
   ]
  },
  {
   "cell_type": "code",
   "execution_count": null,
   "metadata": {},
   "outputs": [],
   "source": [
    "#export\n",
    "class aPyopticum(Help_system):\n",
    "    \"\"\"\n",
    "    Initial class to hold optical formula's etc\n",
    "\n",
    "    \"\"\"\n",
    "\n",
    "    ###################################################################################################################\n",
    "    def __init__(self, echo_params = False):\n",
    "        #system setup\n",
    "        self.initialize_help_system()\n",
    "        #direct setup\n",
    "        self.data = []\n",
    "        self.echo_params = echo_params\n",
    "\n",
    "\n",
    "\n",
    "    def about(self):\n",
    "        \"\"\"\n",
    "        about this library and usage\n",
    "        \"\"\"\n",
    "        print(self.wrap_unit(\"<h1>Pyopticum</h1>\",\"html\"))\n",
    "        print(self.wrap_unit(\"see <a href='https://github.com/jlovick/Pyopticum'> Pyopticum </a> for source\",\"html\"))"
   ]
  },
  {
   "cell_type": "code",
   "execution_count": null,
   "metadata": {},
   "outputs": [
    {
     "name": "stdout",
     "output_type": "stream",
     "text": [
      "Converted 00_core.ipynb.\n",
      "Converted index.ipynb.\n"
     ]
    }
   ],
   "source": [
    "from nbdev.export import *\n",
    "notebook2script()"
   ]
  },
  {
   "cell_type": "code",
   "execution_count": null,
   "metadata": {},
   "outputs": [
    {
     "data": {
      "text/html": [
       "<h1>Pyopticum</h1>"
      ],
      "text/plain": [
       "<IPython.core.display.HTML object>"
      ]
     },
     "metadata": {},
     "output_type": "display_data"
    },
    {
     "data": {
      "text/html": [
       "see <a href='https://github.com/jlovick/Pyopticum'> Pyopticum </a> for source"
      ],
      "text/plain": [
       "<IPython.core.display.HTML object>"
      ]
     },
     "metadata": {},
     "output_type": "display_data"
    }
   ],
   "source": [
    "pc = aPyopticum()\n",
    "pc.about()"
   ]
  },
  {
   "cell_type": "code",
   "execution_count": null,
   "metadata": {},
   "outputs": [],
   "source": [
    "def test_sensor_is_behaving():\n",
    "    mysensor = Sensor(13*ureg.mm,11*ureg.mm, 2.7*ureg.micrometer, 2.7*ureg.micrometer)\n",
    "    da = mysensor.diagonal \n",
    "    mysensor.die_size  = ( 12*ureg.mm,  44*ureg.mm)\n",
    "    db = mysensor.diagonal\n",
    "    print(f\"{mysensor.die_size} {da} --> {db}\")\n",
    "    "
   ]
  },
  {
   "cell_type": "code",
   "execution_count": null,
   "metadata": {},
   "outputs": [
    {
     "data": {
      "text/plain": [
       "\"(<Quantity(12, 'millimeter')>, <Quantity(44, 'millimeter')>) 17.029386365926403 millimeter --> 45.60701700396552 millimeter\""
      ]
     },
     "metadata": {},
     "output_type": "display_data"
    }
   ],
   "source": [
    "test_sensor_is_behaving()"
   ]
  },
  {
   "cell_type": "code",
   "execution_count": null,
   "metadata": {},
   "outputs": [],
   "source": [
    "def test_can_create_lens():\n",
    "    mylens = Lens((40 * ureg.mm) ,(2.4*ureg.Aperture))"
   ]
  },
  {
   "cell_type": "code",
   "execution_count": null,
   "metadata": {},
   "outputs": [],
   "source": [
    "\n",
    "def test_cant_create_lens_without_unit():\n",
    "    with pytest.raises(Exception) as e_info:\n",
    "        mylens = Lens(40,2.4)"
   ]
  },
  {
   "cell_type": "code",
   "execution_count": null,
   "metadata": {},
   "outputs": [],
   "source": [
    "def test_focal_length_has_mm_units():\n",
    "    mylens = Lens((40 * ureg.mm) ,(2.4*ureg.Aperture))\n",
    "    assert mylens.focal_length == (40*ureg.mm)\n"
   ]
  },
  {
   "cell_type": "code",
   "execution_count": null,
   "metadata": {},
   "outputs": [],
   "source": [
    "def test_can_create_sensor():\n",
    "    mysensor = Sensor(13*ureg.mm,11*ureg.mm, 2.7*ureg.micrometer, 2.7*ureg.micrometer)"
   ]
  },
  {
   "cell_type": "code",
   "execution_count": null,
   "metadata": {},
   "outputs": [
    {
     "data": {
      "text/plain": [
       "\"die size = (<Quantity(13.0, 'millimeter')>, <Quantity(11.0, 'millimeter')>)\\n cell size = (<Quantity(2.7, 'micrometer')>, <Quantity(2.7, 'micrometer')>)  \""
      ]
     },
     "metadata": {},
     "output_type": "display_data"
    }
   ],
   "source": [
    "def test_sensor_diagonal():\n",
    "    mysensor = Sensor(13*ureg.mm,11*ureg.mm, 2.7*ureg.micrometer, 2.7*ureg.micrometer)\n",
    "    print(f\"die size = {mysensor.die_size}\\n cell size = {mysensor.pixel_size}  \")\n",
    "    \n",
    "    assert mysensor.diagonal == 17.029386365926403 * ureg.mm\n",
    "test_sensor_diagonal()"
   ]
  },
  {
   "cell_type": "code",
   "execution_count": null,
   "metadata": {},
   "outputs": [
    {
     "data": {
      "text/html": [
       "0.011352924243950934 millimeter"
      ],
      "text/latex": [
       "$0.011352924243950934\\ \\mathrm{millimeter}$"
      ],
      "text/plain": [
       "0.011352924243950934 <Unit('millimeter')>"
      ]
     },
     "metadata": {},
     "output_type": "display_data"
    }
   ],
   "source": [
    "def test_circle_of_confusion_default():\n",
    "    mysensor = Sensor(13*ureg.mm,11*ureg.mm, 2.7*ureg.micrometer, 2.7*ureg.micrometer)\n",
    "    print(mysensor.circle_of_confusion)\n",
    "    assert mysensor.circle_of_confusion == (0.011352924243950934 * ureg.mm)\n",
    "    \n",
    "test_circle_of_confusion_default()"
   ]
  },
  {
   "cell_type": "code",
   "execution_count": null,
   "metadata": {},
   "outputs": [
    {
     "data": {
      "text/plain": [
       "' archaic coc = 0.017029386365926404 millimeter'"
      ]
     },
     "metadata": {},
     "output_type": "display_data"
    }
   ],
   "source": [
    "def test_archaic_circle_of_confusion():\n",
    "    mysensor = Sensor(13*ureg.mm,11*ureg.mm, 2.7*ureg.micrometer, 2.7*ureg.micrometer)\n",
    "    mylens = Lens((40 * ureg.mm) ,(2.0*ureg.Aperture))\n",
    "    mysensor.circle_of_confusion_method = (\"archaic\", mylens)\n",
    "    print(f\" archaic coc = {mysensor.circle_of_confusion}\")\n",
    "    assert mysensor.circle_of_confusion == 0.017029386365926404*ureg.mm\n",
    "\n",
    "test_archaic_circle_of_confusion()"
   ]
  },
  {
   "cell_type": "code",
   "execution_count": null,
   "metadata": {},
   "outputs": [
    {
     "data": {
      "text/plain": [
       "' zeiss coc = 0.009843575934061504 millimeter'"
      ]
     },
     "metadata": {},
     "output_type": "display_data"
    }
   ],
   "source": [
    "def test_zeiss_circle_of_confusion():\n",
    "    mysensor = Sensor(13*ureg.mm,11*ureg.mm, 2.7*ureg.micrometer, 2.7*ureg.micrometer)\n",
    "    mysensor.circle_of_confusion_method = \"zeiss\"\n",
    "    print(f\" zeiss coc = {mysensor.circle_of_confusion}\")\n",
    "    assert mysensor.circle_of_confusion == 0.009843575934061504*ureg.mm\n",
    "test_zeiss_circle_of_confusion()"
   ]
  },
  {
   "cell_type": "code",
   "execution_count": null,
   "metadata": {},
   "outputs": [],
   "source": [
    "def test_can_create_camera():\n",
    "    mylens = Lens(40*ureg.mm, 2.0*ureg.Aperture)\n",
    "    mysensor = Sensor(13*ureg.mm,11*ureg.mm, 2.7*ureg.micrometer, 2.7*ureg.micrometer)\n",
    "    mycamera = Camera(sensor = mysensor, lens = mylens)"
   ]
  },
  {
   "cell_type": "code",
   "execution_count": null,
   "metadata": {},
   "outputs": [],
   "source": [
    "def test_camera_angle_of_view_help():\n",
    "    mylens = Lens(40*ureg.mm, 2.0*ureg.Aperture)\n",
    "    mysensor = Sensor(13*ureg.mm,11*ureg.mm, 2.7*ureg.micrometer, 2.7*ureg.micrometer)\n",
    "    mycamera = Camera(sensor = mysensor, lens = mylens)\n",
    "    mycamera.angle_of_view_help()"
   ]
  },
  {
   "cell_type": "code",
   "execution_count": null,
   "metadata": {},
   "outputs": [],
   "source": [
    "def test_camera_angle_of_view():\n",
    "    mylens = Lens(40*ureg.mm, 2.0*ureg.Aperture, 7.0*ureg.m)\n",
    "    mysensor = Sensor(13*ureg.mm,11*ureg.mm, 2.7*ureg.micrometer, 2.7*ureg.micrometer)\n",
    "    mycamera = Camera(sensor = mysensor, lens = mylens)\n",
    "    (horizontal_aov,vertical_aov) =  mycamera.angle_of_view()\n",
    "    assert math.isclose(horizontal_aov, 0.32037417920340566*ureg.radians, rel_tol=1e-6, abs_tol = 0.0)\n",
    "    assert math.isclose(vertical_aov, 0.27174389171340224*ureg.radians, rel_tol=1e6,abs_tol = 0.0)\n",
    "    print(f\"{horizontal_aov},{vertical_aov}\")\n"
   ]
  },
  {
   "cell_type": "code",
   "execution_count": null,
   "metadata": {},
   "outputs": [],
   "source": [
    "def test_camera_field_of_view():\n",
    "    mylens = Lens(40*ureg.mm, 2.0*ureg.Aperture, 7.0*ureg.m)\n",
    "    mysensor = Sensor(13*ureg.mm,11*ureg.mm, 2.7*ureg.micrometer, 2.7*ureg.micrometer)\n",
    "    mycamera = Camera(sensor = mysensor, lens = mylens)\n",
    "    fov = mycamera.field_of_view()\n",
    "    print(f\"{fov}\")\n",
    "    assert math.isclose(fov[0].magnitude, 2.262, rel_tol=1e-6, abs_tol=0.0)\n",
    "    assert math.isclose(fov[1].magnitude, 1.9139999999999998, rel_tol=1e-6, abs_tol=0.0)\n"
   ]
  },
  {
   "cell_type": "code",
   "execution_count": null,
   "metadata": {},
   "outputs": [],
   "source": [
    "def test_camera_hyperfocal_distance():\n",
    "    mylens = Lens(40*ureg.mm, 2.0*ureg.Aperture)\n",
    "    mysensor = Sensor(13*ureg.mm,11*ureg.mm, 2.7*ureg.micrometer, 2.7*ureg.micrometer)\n",
    "    mycamera = Camera(sensor = mysensor, lens = mylens)\n",
    "    print(f\" {mysensor.circle_of_confusion}\")\n",
    "    hyper_distance =mycamera.hyperfocal_distance()\n",
    "    print(f\"{hyper_distance}\")\n",
    "    assert math.isclose(hyper_distance.magnitude,(76.32935),rel_tol=1e-5,abs_tol=0.0)"
   ]
  },
  {
   "cell_type": "code",
   "execution_count": null,
   "metadata": {},
   "outputs": [],
   "source": [
    "def test_camera_near_focal_distance():\n",
    "    mylens = Lens(40*ureg.mm, 2.0*ureg.Aperture, 4.0 * ureg['meters'])\n",
    "    mysensor = Sensor(13*ureg.mm,11*ureg.mm, 2.7*ureg.micrometer, 2.7*ureg.micrometer)\n",
    "    mycamera = Camera(sensor = mysensor, lens = mylens)\n",
    "    print(f\" {mysensor.circle_of_confusion}\")\n",
    "    nfd  = mycamera.near_DOF_limit()\n",
    "    print(f\"{nfd}\")\n",
    "    assert math.isclose(nfd.magnitude,3.8026, rel_tol=1e-5, abs_tol=0.0)\n"
   ]
  },
  {
   "cell_type": "code",
   "execution_count": null,
   "metadata": {},
   "outputs": [],
   "source": [
    "def test_camera_far_focal_distance():\n",
    "    mylens = Lens(40*ureg.mm, 2.0*ureg.Aperture, 4.0 * ureg['meters'])\n",
    "    mysensor = Sensor(13*ureg.mm,11*ureg.mm, 2.7*ureg.micrometer, 2.7*ureg.micrometer)\n",
    "    mycamera = Camera(sensor = mysensor, lens = mylens)\n",
    "    print(f\" {mysensor.circle_of_confusion}\")\n",
    "    ffd  = mycamera.far_DOF_limit()\n",
    "    print(f\"{ffd}\")\n",
    "    assert math.isclose(ffd.magnitude,4.218998, rel_tol =1e-5, abs_tol=0.0)\n"
   ]
  },
  {
   "cell_type": "code",
   "execution_count": null,
   "metadata": {},
   "outputs": [],
   "source": [
    "def test_camera_DOF():\n",
    "    mylens = Lens(40*ureg.mm, 2.0*ureg.Aperture, 4.0 * ureg['meters'])\n",
    "    mysensor = Sensor(13*ureg.mm,11*ureg.mm, 2.7*ureg.micrometer, 2.7*ureg.micrometer)\n",
    "    mycamera = Camera(sensor = mysensor, lens = mylens)\n",
    "    print(f\" {mysensor.circle_of_confusion}\")\n",
    "    dof  = mycamera.DOF()\n",
    "    print(f\"{dof}\")\n",
    "    assert math.isclose(dof.magnitude,0.416382,rel_tol=1e-5, abs_tol=0.0)\n"
   ]
  },
  {
   "cell_type": "code",
   "execution_count": null,
   "metadata": {},
   "outputs": [
    {
     "data": {
      "text/plain": [
       "\"(<Quantity(12, 'millimeter')>, <Quantity(44, 'millimeter')>) 17.029386365926403 millimeter --> 45.60701700396552 millimeter\""
      ]
     },
     "metadata": {},
     "output_type": "display_data"
    },
    {
     "name": "stdout",
     "output_type": "stream",
     "text": [
      "\u001b[32m.\u001b[0m\u001b[32m.\u001b[0m\u001b[32m.\u001b[0m\u001b[32m.\u001b[0m\u001b[32m.\u001b[0m"
     ]
    },
    {
     "data": {
      "text/plain": [
       "\"die size = (<Quantity(13.0, 'millimeter')>, <Quantity(11.0, 'millimeter')>)\\n cell size = (<Quantity(2.7, 'micrometer')>, <Quantity(2.7, 'micrometer')>)  \""
      ]
     },
     "metadata": {},
     "output_type": "display_data"
    },
    {
     "name": "stdout",
     "output_type": "stream",
     "text": [
      "\u001b[32m.\u001b[0m"
     ]
    },
    {
     "data": {
      "text/html": [
       "0.011352924243950934 millimeter"
      ],
      "text/latex": [
       "$0.011352924243950934\\ \\mathrm{millimeter}$"
      ],
      "text/plain": [
       "0.011352924243950934 <Unit('millimeter')>"
      ]
     },
     "metadata": {},
     "output_type": "display_data"
    },
    {
     "name": "stdout",
     "output_type": "stream",
     "text": [
      "\u001b[32m.\u001b[0m"
     ]
    },
    {
     "data": {
      "text/plain": [
       "' archaic coc = 0.017029386365926404 millimeter'"
      ]
     },
     "metadata": {},
     "output_type": "display_data"
    },
    {
     "name": "stdout",
     "output_type": "stream",
     "text": [
      "\u001b[32m.\u001b[0m"
     ]
    },
    {
     "data": {
      "text/plain": [
       "' zeiss coc = 0.009843575934061504 millimeter'"
      ]
     },
     "metadata": {},
     "output_type": "display_data"
    },
    {
     "name": "stdout",
     "output_type": "stream",
     "text": [
      "\u001b[32m.\u001b[0m\u001b[32m.\u001b[0m"
     ]
    },
    {
     "data": {
      "text/html": [
       "<h2>Angle of view</h2>"
      ],
      "text/plain": [
       "<IPython.core.display.HTML object>"
      ]
     },
     "metadata": {},
     "output_type": "display_data"
    },
    {
     "data": {
      "text/html": [
       "<span>Figures out the witdh of the angle of view, given sensor / lens characteristics.</span>"
      ],
      "text/plain": [
       "<IPython.core.display.HTML object>"
      ]
     },
     "metadata": {},
     "output_type": "display_data"
    },
    {
     "data": {
      "text/latex": [
       "$\\displaystyle \\theta=2\\cdot\\arctan\\left(\\frac{h(s-f)}{2sf}\\right)$"
      ],
      "text/plain": [
       "<IPython.core.display.Math object>"
      ]
     },
     "metadata": {},
     "output_type": "display_data"
    },
    {
     "data": {
      "text/html": [
       "<code> angle_of_view(frame_dimension, focal_length, focus_distance)</code>"
      ],
      "text/plain": [
       "<IPython.core.display.HTML object>"
      ]
     },
     "metadata": {},
     "output_type": "display_data"
    },
    {
     "name": "stdout",
     "output_type": "stream",
     "text": [
      "\u001b[32m.\u001b[0m"
     ]
    },
    {
     "data": {
      "text/plain": [
       "'0.3203741792034056 radian,0.27174389171340224 radian'"
      ]
     },
     "metadata": {},
     "output_type": "display_data"
    },
    {
     "name": "stdout",
     "output_type": "stream",
     "text": [
      "\u001b[32m.\u001b[0m"
     ]
    },
    {
     "data": {
      "text/plain": [
       "' view width 2262.0 millimeter,1913.9999999999998 millimeter'"
      ]
     },
     "metadata": {},
     "output_type": "display_data"
    },
    {
     "data": {
      "text/plain": [
       "\"(<Quantity(2.262, 'meter')>, <Quantity(1.914, 'meter')>)\""
      ]
     },
     "metadata": {},
     "output_type": "display_data"
    },
    {
     "name": "stdout",
     "output_type": "stream",
     "text": [
      "\u001b[32m.\u001b[0m"
     ]
    },
    {
     "data": {
      "text/plain": [
       "' 0.011352924243950934 millimeter'"
      ]
     },
     "metadata": {},
     "output_type": "display_data"
    },
    {
     "data": {
      "text/plain": [
       "'76.32935758064299 meter'"
      ]
     },
     "metadata": {},
     "output_type": "display_data"
    },
    {
     "name": "stdout",
     "output_type": "stream",
     "text": [
      "\u001b[32m.\u001b[0m"
     ]
    },
    {
     "data": {
      "text/plain": [
       "' 0.011352924243950934 millimeter'"
      ]
     },
     "metadata": {},
     "output_type": "display_data"
    },
    {
     "data": {
      "text/plain": [
       "'3.802615242320385 meter'"
      ]
     },
     "metadata": {},
     "output_type": "display_data"
    },
    {
     "name": "stdout",
     "output_type": "stream",
     "text": [
      "\u001b[32m.\u001b[0m"
     ]
    },
    {
     "data": {
      "text/plain": [
       "' 0.011352924243950934 millimeter'"
      ]
     },
     "metadata": {},
     "output_type": "display_data"
    },
    {
     "data": {
      "text/plain": [
       "'4.218998212203659 meter'"
      ]
     },
     "metadata": {},
     "output_type": "display_data"
    },
    {
     "name": "stdout",
     "output_type": "stream",
     "text": [
      "\u001b[32m.\u001b[0m"
     ]
    },
    {
     "data": {
      "text/plain": [
       "' 0.011352924243950934 millimeter'"
      ]
     },
     "metadata": {},
     "output_type": "display_data"
    },
    {
     "data": {
      "text/plain": [
       "'0.41638296988327417 meter'"
      ]
     },
     "metadata": {},
     "output_type": "display_data"
    },
    {
     "name": "stdout",
     "output_type": "stream",
     "text": [
      "\u001b[32m.\u001b[0m\u001b[32m                                                                            [100%]\u001b[0m\n",
      "\u001b[32m\u001b[32m\u001b[1m17 passed\u001b[0m\u001b[32m in 6.81s\u001b[0m\u001b[0m\n"
     ]
    }
   ],
   "source": [
    "ipytest.run()"
   ]
  },
  {
   "cell_type": "code",
   "execution_count": null,
   "metadata": {},
   "outputs": [],
   "source": []
  },
  {
   "cell_type": "code",
   "execution_count": null,
   "metadata": {},
   "outputs": [],
   "source": []
  },
  {
   "cell_type": "code",
   "execution_count": null,
   "metadata": {},
   "outputs": [],
   "source": []
  },
  {
   "cell_type": "code",
   "execution_count": null,
   "metadata": {},
   "outputs": [],
   "source": []
  },
  {
   "cell_type": "code",
   "execution_count": null,
   "metadata": {},
   "outputs": [],
   "source": []
  },
  {
   "cell_type": "code",
   "execution_count": null,
   "metadata": {},
   "outputs": [],
   "source": []
  },
  {
   "cell_type": "code",
   "execution_count": null,
   "metadata": {},
   "outputs": [],
   "source": []
  },
  {
   "cell_type": "code",
   "execution_count": null,
   "metadata": {},
   "outputs": [],
   "source": []
  },
  {
   "cell_type": "code",
   "execution_count": null,
   "metadata": {},
   "outputs": [],
   "source": []
  },
  {
   "cell_type": "code",
   "execution_count": null,
   "metadata": {},
   "outputs": [],
   "source": []
  },
  {
   "cell_type": "code",
   "execution_count": null,
   "metadata": {},
   "outputs": [],
   "source": []
  },
  {
   "cell_type": "code",
   "execution_count": null,
   "metadata": {},
   "outputs": [],
   "source": []
  },
  {
   "cell_type": "code",
   "execution_count": null,
   "metadata": {},
   "outputs": [],
   "source": []
  },
  {
   "cell_type": "code",
   "execution_count": null,
   "metadata": {},
   "outputs": [],
   "source": []
  },
  {
   "cell_type": "code",
   "execution_count": null,
   "metadata": {},
   "outputs": [],
   "source": []
  },
  {
   "cell_type": "code",
   "execution_count": null,
   "metadata": {},
   "outputs": [],
   "source": []
  },
  {
   "cell_type": "code",
   "execution_count": null,
   "metadata": {},
   "outputs": [],
   "source": []
  },
  {
   "cell_type": "code",
   "execution_count": null,
   "metadata": {},
   "outputs": [],
   "source": []
  },
  {
   "cell_type": "code",
   "execution_count": null,
   "metadata": {},
   "outputs": [],
   "source": []
  },
  {
   "cell_type": "code",
   "execution_count": null,
   "metadata": {},
   "outputs": [],
   "source": []
  },
  {
   "cell_type": "code",
   "execution_count": null,
   "metadata": {},
   "outputs": [],
   "source": []
  },
  {
   "cell_type": "code",
   "execution_count": null,
   "metadata": {},
   "outputs": [],
   "source": []
  }
 ],
 "metadata": {
  "kernelspec": {
   "display_name": "Python 3 (ipykernel)",
   "language": "python",
   "name": "python3"
  }
 },
 "nbformat": 4,
 "nbformat_minor": 4
}
