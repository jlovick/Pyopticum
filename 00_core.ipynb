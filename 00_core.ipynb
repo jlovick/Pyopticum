{
 "cells": [
  {
   "cell_type": "code",
   "execution_count": null,
   "metadata": {},
   "outputs": [],
   "source": [
    "# default_exp Pyopticum"
   ]
  },
  {
   "cell_type": "markdown",
   "metadata": {},
   "source": [
    "# Pyopticum\n",
    "\n",
    "> API details."
   ]
  },
  {
   "cell_type": "code",
   "execution_count": null,
   "metadata": {},
   "outputs": [],
   "source": [
    "#hide\n",
    "from nbdev.showdoc import *\n",
    "import os"
   ]
  },
  {
   "cell_type": "code",
   "execution_count": null,
   "metadata": {},
   "outputs": [
    {
     "data": {
      "text/html": [
       "Using Ipython"
      ],
      "text/plain": [
       "<IPython.core.display.HTML object>"
      ]
     },
     "metadata": {},
     "output_type": "display_data"
    }
   ],
   "source": [
    "#export\n",
    "from __future__ import print_function\n",
    "from typing import overload\n",
    "import random\n",
    "import pint\n",
    "import math\n",
    "import inspect\n",
    "\n",
    "try:\n",
    "      from IPython.display import display, Math, Latex, HTML, Markdown\n",
    "      display(HTML(\"Using Ipython\"))\n",
    "      ascii_print = print\n",
    "      def print(*args, **kwargs):\n",
    "        for item in args:\n",
    "            display(item)\n",
    "\n",
    "except ImportError:\n",
    "      from bs4 import BeautifulSoup\n",
    "      from markdown import markdown\n",
    "      print(\"unable to import IPython, ignoring, using basic print\")\n",
    "\n",
    "ureg = pint.UnitRegistry()\n",
    "ureg.define('Circle_of_confusion = [] = coc')\n",
    "ureg.define('Aperture = [] = fnumber')\n",
    "\n",
    "class aPyopticum:\n",
    "    \"\"\"\n",
    "    Initial class to hold optical formula's etc\n",
    "    \n",
    "    \"\"\"\n",
    "    class Sensor:\n",
    "        \"\"\"\n",
    "        class to hold sensor data and methods\n",
    "        \"\"\"\n",
    "        class Raw_sensor_data:\n",
    "            def __init__(self):\n",
    "                self.die_size_x = 0\n",
    "                self.die_size_y = 0\n",
    "                self.pixel_size_x = 0\n",
    "                self.pixel_size_y = 0\n",
    "                self.diagonal = 0 \n",
    "                self.circle_of_confusion = 0\n",
    "                self.circle_of_confusion_method = \"Modern\"\n",
    "                \n",
    "        @ureg.wraps(None, (None, 'mm','mm','micrometer','micrometer'))\n",
    "        def __init__(self, die_size_x,die_size_y, pixel_size_x,pixel_size_y):\n",
    "            self.__dict__['sensor_data'] = self.Raw_sensor_data()\n",
    "            self.sensor_data.die_size_x = die_size_x*ureg.mm\n",
    "            self.sensor_data.die_size_y = die_size_y*ureg.mm\n",
    "            self.sensor_data.diagonal = self.__diagonal()\n",
    "            self.sensor_data.pixel_size_x = 2.7 *ureg.micrometer\n",
    "            self.sensor_data.pixel_size_y = 2.7 *ureg.micrometer\n",
    "            self.sensor_data.circle_of_confusion_method = \"Modern\"\n",
    "            self.sensor_data.circle_of_confusion = self.__circle_of_confusion(frame_diagonal=self.diagonal, focal_length=0*ureg.mm, method=self.sensor_data.circle_of_confusion_method)\n",
    "        \n",
    "        def __getattr__(self, attr):\n",
    "            attr = attr.replace(\"_Sensor\",\"\")\n",
    "            #print(f\"getting {attr}\")\n",
    "            variables = vars(self.sensor_data)\n",
    "            if attr in variables:\n",
    "                return getattr(self.sensor_data,attr)\n",
    "            \n",
    "            methods = [i for i in dir(self) if not inspect.ismethod(i)]\n",
    "            print(f\"{attr} --> variables :{variables} \\n methods :{methods}\")\n",
    "            #next check if we can calculate it\n",
    "            if (\"__\" + attr in methods):\n",
    "                return getattr(self,\"__\"+attr)()\n",
    "            else:\n",
    "                raise Exception(f\"__getattr__ Cannot find Attribute :{attr} \")\n",
    "    \n",
    "        def __setattr__(self, attr, value):\n",
    "            attr = attr.replace(\"_Sensor\",\"\")\n",
    "            variables = vars(self.sensor_data)\n",
    "            methods = [i for i in dir(self) if not inspect.ismethod(i)]\n",
    "            not_methods = [i for i in dir(self) if  inspect.ismethod(i)]\n",
    "            print(f\" {attr} --> variables :{variables} \\n methods :{methods}\")\n",
    "            if (\"_Sensor__\" + attr in methods):\n",
    "                raise Exception(f\"__setattr__ Attribute [ {attr} ] is not writeable \")\n",
    "            \n",
    "            if attr == \"sensor_data\":\n",
    "                if type(value) == type(self.sensor_data):\n",
    "                    self.__dict['sensor_data'] == self.sensor_data\n",
    "                else:\n",
    "                    raise Exception(f\" sensor data must be of sensor data class type\")\n",
    "            #next make it look like these are top level attributes        \n",
    "            if attr in variables:\n",
    "                setattr(self.sensor_data,attr,value)\n",
    "            #if this is in the right class lets let it be changed here (should never be called)\n",
    "            elif (attr in methods):\n",
    "                self.__dict__[attr] = value\n",
    "                #raise Exception(f\"__setattr__ Cannot set this Attribute : {attr}\")\n",
    "            #ok i give up\n",
    "            else:\n",
    "                raise Exception(f\"__setattr__ Attribute [ {attr} ] is not found \")\n",
    "\n",
    "        @ureg.wraps('mm',(None))\n",
    "        def __diagonal(self):\n",
    "            return math.sqrt( math.pow(self.sensor_data.die_size_x.magnitude,2) + math.pow(self.sensor_data.die_size_y.magnitude,2) )*ureg.mm\n",
    "        \n",
    "      \n",
    "        def circle_of_confusion_help(self)->None:\n",
    "            print(HTML(\"<H2>Circle of Confusion</H2>\"))\n",
    "            print(HTML(\"Modern, Standard Method (Default)\tFrame’s diagonal / 1500\"))\n",
    "            print(HTML(\"Zeiss, Formula\tFrame’s diagonal / 1730\"))\n",
    "            print(HTML(\"Kodak, Formula\tFocal length / 1720\"))\n",
    "            print(HTML(\"Archaic, Standard\tFrame’s diagonal / 1000\"))\n",
    "            print(HTML(\"<code> circle_confusion(frame_diagonal,focal_length,method = 'modern')</code>\"))\n",
    "            return 1\n",
    "        \n",
    "        def set_circle_of_confusion_method(self,method=\"modern\"):\n",
    "            coc_method = [ \"modern\", \"zeiss\",\"kodak\", \"archaic\" ]\n",
    "            if method not in coc_method:\n",
    "                raise ValueError(\"Circle of confusion method not supported\")\n",
    "            self.sensor_data.circle_of_confusion_method = method\n",
    "            self.__circle_of_confusion(frame_diagonal=self.diagonal, focal_length=0*ureg.mm, method=self.sensor_data.circle_of_confusion_method)\n",
    "            \n",
    "        @ureg.wraps(ureg.coc, (None, 'mm','mm',None))\n",
    "        def __circle_of_confusion(self,frame_diagonal, focal_length, method):\n",
    "            def modern(frame_diagonal, ignore):\n",
    "                return frame_diagonal/1500\n",
    "            def zeiss(frame_diagonal, ignore):\n",
    "                return frame_diagonal/1730\n",
    "            def kodak(ignore, focal_length):\n",
    "                return focal_length/1720\n",
    "            def archaic(frame_diagonal, ignore):\n",
    "                return focal_length/1000\n",
    "\n",
    "            coc_method = { \"modern\": modern,\n",
    "                          \"zeiss\": zeiss,\n",
    "                          \"kodak\": kodak,\n",
    "                          \"archaic\": archaic}\n",
    "            if method.lower() not in coc_method:\n",
    "                raise ValueError(f\"Unknown Circle of Confusion Method {method}\")\n",
    "            coc = coc_method.get(method.lower())(frame_diagonal,focal_length)\n",
    "            return coc * ureg('coc')\n",
    "        \n",
    "        \n",
    "    ###################################################################################################################3    \n",
    "    def __init__(self, echo_params = False):\n",
    "        self.ureg = pint.UnitRegistry()\n",
    "        self.data = []\n",
    "        self.is_ipython = self.__is_running_under_ipython()\n",
    "        if self.is_ipython:\n",
    "            self.ureg.default_format = \"L\"\n",
    "        else:\n",
    "            self.ureg.default_format = \"P\"\n",
    "        self.echo_params = echo_params\n",
    "        \n",
    "        \n",
    "    def __is_running_under_ipython(self):\n",
    "        try:\n",
    "            get_ipython\n",
    "            return True\n",
    "        except:\n",
    "            return False\n",
    "    \n",
    "    def wrap_unit(self, eqn, style):\n",
    "        if (self.is_ipython):\n",
    "            if style.lower() == \"math\":\n",
    "                return Math(eqn)\n",
    "            if style.lower() == \"html\":\n",
    "                return HTML(eqn)\n",
    "            if style.lower() == \"latex\":\n",
    "                return Latex(eqn)\n",
    "            if style.lower() == \"markdown\":\n",
    "                return Markdown(eqn)\n",
    "        else:\n",
    "            if style.lower() == \"html\":\n",
    "                soup = BeautifulSoup(eqn)\n",
    "                return soup.get_text()\n",
    "            if style.lower() == \"markdown\":\n",
    "                html = markdown(eqn)\n",
    "                soup = BeautifulSoup(html, features='html.parser')\n",
    "                return soup.get_text()                \n",
    "        return eqnprint\n",
    "               \n",
    "    def about(self):\n",
    "        \"\"\"\n",
    "        about this library and usage\n",
    "        \"\"\"\n",
    "        print(self.wrap_unit(\"<h1>Pyopticum</h1>\",\"html\"))\n",
    "        print(self.wrap_unit(\"see <a href='https://github.com/jlovick/Pyopticum'> Pyopticum </a> for source\",\"html\"))\n",
    "    \n",
    "    def help(self, command):\n",
    "        \"\"\"\n",
    "        runs the help function for the command\n",
    "        \"\"\"\n",
    "        method_to_call = getattr(self, command+'_help')\n",
    "        result = method_to_call()\n",
    "    \n",
    "    def angle_of_view_help(self):\n",
    "        print(HTML(\"<h2>Angle of view</h2>\"))\n",
    "        print(HTML(\"<span>Figures out the witdh of the angle of view, given sensor / lens characteristics.</span>\"))\n",
    "        print(self.wrap_unit(r\"\\theta=2\\cdot\\arctan\\left(\\frac{h(s-f)}{2sf}\\right)\",\"math\"))\n",
    "        print(HTML(\"<code> angle_of_view(frame_dimension, focal_length, focus_distance)</code>\"))\n",
    "        \n",
    "    @ureg.wraps(ureg.radians, (None, 'mm','mm','mm' ))\n",
    "    def angle_of_view(self, frame_dimension, focal_length, focus_distance):\n",
    "        if self.echo_params:\n",
    "            print(HTML(f\"<code>Frame Dimension {frame_dimension} </br>Focal Length {focal_length}</br>Focus Distance {focus_distance}</code>\"))\n",
    "        aov = 2.0 * math.atan((frame_dimension * (focus_distance - focal_length))/(2*focus_distance*focal_length))\n",
    "        if self.echo_params:\n",
    "            print(HTML(f\"<span>Angle of View :{aov}\"))\n",
    "        return aov\n",
    "        \n",
    "    def field_of_view_help(self):\n",
    "        print(self.wrap_unit(\"<h2>Field of View</h2>\",\"html\"))\n",
    "        print(self.wrap_unit(\"<a> implementation of this equation </a>\",\"html\"))\n",
    "        print(self.wrap_unit(r'w=2s\\cdot\\tan\\left(\\frac{\\theta}{2}\\right)',\"Math\"))\n",
    "        \n",
    "    @ureg.wraps(ureg.meters, (None, 'm', 'rad') )\n",
    "    def field_of_view(self, focus_distance, angle_of_view):\n",
    "        view_width = 2*focus_distance*math.tan( angle_of_view / 2.0)\n",
    "        return view_width\n",
    "\n",
    "    def hyperfocal_distance_help(self):\n",
    "        print(HTML(\"<H2>Hyperfocal Distance</H2>\"))\n",
    "        print(HTML(\"<span> calculates hyperfocal distance\"))\n",
    "        print(self.wrap_unit(r\"H=\\frac{f^{2}}{N\\cdot{c}}+f\",\"Math\"))\n",
    "        \n",
    "    @ureg.wraps(ureg.meters, (None, 'mm','fnumber','coc')) \n",
    "    def hyperfocal_distance(self, focal_length, f_number, circle_of_confusion):\n",
    "        hfd = (focal_length*focal_length)/(f_number*circle_of_confusion)+focal_length\n",
    "        return hfd\n",
    "    \n",
    "\n",
    "pc = aPyopticum(echo_params = False)"
   ]
  },
  {
   "cell_type": "code",
   "execution_count": null,
   "metadata": {},
   "outputs": [
    {
     "data": {
      "text/html": [
       "<h1>Pyopticum</h1>"
      ],
      "text/plain": [
       "<IPython.core.display.HTML object>"
      ]
     },
     "metadata": {},
     "output_type": "display_data"
    },
    {
     "data": {
      "text/html": [
       "see <a href='https://github.com/jlovick/Pyopticum'> Pyopticum </a> for source"
      ],
      "text/plain": [
       "<IPython.core.display.HTML object>"
      ]
     },
     "metadata": {},
     "output_type": "display_data"
    }
   ],
   "source": [
    "pc = aPyopticum()\n",
    "pc.about()"
   ]
  },
  {
   "cell_type": "code",
   "execution_count": null,
   "metadata": {},
   "outputs": [
    {
     "data": {
      "text/html": [
       "<h2>Field of View</h2>"
      ],
      "text/plain": [
       "<IPython.core.display.HTML object>"
      ]
     },
     "metadata": {},
     "output_type": "display_data"
    },
    {
     "data": {
      "text/html": [
       "<a> implementation of this equation </a>"
      ],
      "text/plain": [
       "<IPython.core.display.HTML object>"
      ]
     },
     "metadata": {},
     "output_type": "display_data"
    },
    {
     "data": {
      "text/latex": [
       "$\\displaystyle w=2s\\cdot\\tan\\left(\\frac{\\theta}{2}\\right)$"
      ],
      "text/plain": [
       "<IPython.core.display.Math object>"
      ]
     },
     "metadata": {},
     "output_type": "display_data"
    }
   ],
   "source": [
    "pc.field_of_view_help()"
   ]
  },
  {
   "cell_type": "code",
   "execution_count": null,
   "metadata": {},
   "outputs": [
    {
     "data": {
      "text/html": [
       "<H2>Hyperfocal Distance</H2>"
      ],
      "text/plain": [
       "<IPython.core.display.HTML object>"
      ]
     },
     "metadata": {},
     "output_type": "display_data"
    },
    {
     "data": {
      "text/html": [
       "<span> calculates hyperfocal distance"
      ],
      "text/plain": [
       "<IPython.core.display.HTML object>"
      ]
     },
     "metadata": {},
     "output_type": "display_data"
    },
    {
     "data": {
      "text/latex": [
       "$\\displaystyle H=\\frac{f^{2}}{N\\cdot{c}}+f$"
      ],
      "text/plain": [
       "<IPython.core.display.Math object>"
      ]
     },
     "metadata": {},
     "output_type": "display_data"
    }
   ],
   "source": [
    "pc.help('hyperfocal_distance')"
   ]
  },
  {
   "cell_type": "code",
   "execution_count": null,
   "metadata": {},
   "outputs": [
    {
     "data": {
      "text/plain": [
       "'Angle of View 20.96243628826184 degree'"
      ]
     },
     "metadata": {},
     "output_type": "display_data"
    }
   ],
   "source": [
    "fdimension = 15*ureg.mm\n",
    "flength = 40*ureg.mm\n",
    "fdistance = 3*ureg.m\n",
    "aov = pc.angle_of_view(fdimension,flength,fdistance)\n",
    "print(f\"Angle of View {aov.to('degrees')}\")"
   ]
  },
  {
   "cell_type": "code",
   "execution_count": null,
   "metadata": {},
   "outputs": [
    {
     "data": {
      "text/plain": [
       "'field of view : 0.37 meter'"
      ]
     },
     "metadata": {},
     "output_type": "display_data"
    }
   ],
   "source": [
    "height = 1*ureg.meter\n",
    "fov = pc.field_of_view( height, aov)\n",
    "print(f\"field of view : {fov}\")"
   ]
  },
  {
   "cell_type": "code",
   "execution_count": null,
   "metadata": {},
   "outputs": [],
   "source": []
  },
  {
   "cell_type": "code",
   "execution_count": null,
   "metadata": {},
   "outputs": [],
   "source": []
  },
  {
   "cell_type": "code",
   "execution_count": null,
   "metadata": {},
   "outputs": [],
   "source": []
  },
  {
   "cell_type": "code",
   "execution_count": null,
   "metadata": {},
   "outputs": [],
   "source": [
    "mysensor = pc.Sensor(13*ureg.mm,11*ureg.mm, 2.7*ureg.micrometer, 2.7*ureg.micrometer)"
   ]
  },
  {
   "cell_type": "code",
   "execution_count": null,
   "metadata": {},
   "outputs": [
    {
     "data": {
      "text/html": [
       "17.029386365926403 millimeter"
      ],
      "text/latex": [
       "$17.029386365926403\\ \\mathrm{millimeter}$"
      ],
      "text/plain": [
       "17.029386365926403 <Unit('millimeter')>"
      ]
     },
     "execution_count": null,
     "metadata": {},
     "output_type": "execute_result"
    }
   ],
   "source": [
    "mysensor.diagonal "
   ]
  },
  {
   "cell_type": "code",
   "execution_count": null,
   "metadata": {},
   "outputs": [
    {
     "data": {
      "text/plain": [
       "\" diagonal --> variables :{'die_size_x': <Quantity(13.0, 'millimeter')>, 'die_size_y': <Quantity(11.0, 'millimeter')>, 'pixel_size_x': <Quantity(2.7, 'micrometer')>, 'pixel_size_y': <Quantity(2.7, 'micrometer')>, 'diagonal': <Quantity(17.0293864, 'millimeter')>, 'circle_of_confusion': <Quantity(0.0113529242, 'Circle_of_confusion')>, 'circle_of_confusion_method': 'Modern'} \\n methods :['Raw_sensor_data', '_Sensor__circle_of_confusion', '_Sensor__diagonal', '__class__', '__delattr__', '__dict__', '__dir__', '__doc__', '__eq__', '__format__', '__ge__', '__getattr__', '__getattribute__', '__gt__', '__hash__', '__init__', '__init_subclass__', '__le__', '__lt__', '__module__', '__ne__', '__new__', '__reduce__', '__reduce_ex__', '__repr__', '__setattr__', '__sizeof__', '__str__', '__subclasshook__', '__weakref__', 'circle_of_confusion_help', 'sensor_data', 'set_circle_of_confusion_method']\""
      ]
     },
     "metadata": {},
     "output_type": "display_data"
    },
    {
     "ename": "Exception",
     "evalue": "__setattr__ Attribute [ diagonal ] is not writeable ",
     "output_type": "error",
     "traceback": [
      "\u001b[0;31m---------------------------------------------------------------------------\u001b[0m",
      "\u001b[0;31mException\u001b[0m                                 Traceback (most recent call last)",
      "\u001b[0;32m/tmp/ipykernel_1945/2164803607.py\u001b[0m in \u001b[0;36m<module>\u001b[0;34m\u001b[0m\n\u001b[0;32m----> 1\u001b[0;31m \u001b[0mmysensor\u001b[0m\u001b[0;34m.\u001b[0m\u001b[0mdiagonal\u001b[0m \u001b[0;34m=\u001b[0m \u001b[0;36m12\u001b[0m\u001b[0;34m\u001b[0m\u001b[0;34m\u001b[0m\u001b[0m\n\u001b[0m",
      "\u001b[0;32m/tmp/ipykernel_1945/3863815842.py\u001b[0m in \u001b[0;36m__setattr__\u001b[0;34m(self, attr, value)\u001b[0m\n\u001b[1;32m     76\u001b[0m             \u001b[0mprint\u001b[0m\u001b[0;34m(\u001b[0m\u001b[0;34mf\" {attr} --> variables :{variables} \\n methods :{methods}\"\u001b[0m\u001b[0;34m)\u001b[0m\u001b[0;34m\u001b[0m\u001b[0;34m\u001b[0m\u001b[0m\n\u001b[1;32m     77\u001b[0m             \u001b[0;32mif\u001b[0m \u001b[0;34m(\u001b[0m\u001b[0;34m\"_Sensor__\"\u001b[0m \u001b[0;34m+\u001b[0m \u001b[0mattr\u001b[0m \u001b[0;32min\u001b[0m \u001b[0mmethods\u001b[0m\u001b[0;34m)\u001b[0m\u001b[0;34m:\u001b[0m\u001b[0;34m\u001b[0m\u001b[0;34m\u001b[0m\u001b[0m\n\u001b[0;32m---> 78\u001b[0;31m                 \u001b[0;32mraise\u001b[0m \u001b[0mException\u001b[0m\u001b[0;34m(\u001b[0m\u001b[0;34mf\"__setattr__ Attribute [ {attr} ] is not writeable \"\u001b[0m\u001b[0;34m)\u001b[0m\u001b[0;34m\u001b[0m\u001b[0;34m\u001b[0m\u001b[0m\n\u001b[0m\u001b[1;32m     79\u001b[0m \u001b[0;34m\u001b[0m\u001b[0m\n\u001b[1;32m     80\u001b[0m             \u001b[0;32mif\u001b[0m \u001b[0mattr\u001b[0m \u001b[0;34m==\u001b[0m \u001b[0;34m\"sensor_data\"\u001b[0m\u001b[0;34m:\u001b[0m\u001b[0;34m\u001b[0m\u001b[0;34m\u001b[0m\u001b[0m\n",
      "\u001b[0;31mException\u001b[0m: __setattr__ Attribute [ diagonal ] is not writeable "
     ]
    }
   ],
   "source": [
    "mysensor.diagonal = 12"
   ]
  },
  {
   "cell_type": "code",
   "execution_count": null,
   "metadata": {},
   "outputs": [
    {
     "data": {
      "text/html": [
       "0.011352924243950934 Circle_of_confusion"
      ],
      "text/latex": [
       "$0.011352924243950934\\ \\mathrm{Circle\\_of\\_confusion}$"
      ],
      "text/plain": [
       "0.011352924243950934 <Unit('Circle_of_confusion')>"
      ]
     },
     "execution_count": null,
     "metadata": {},
     "output_type": "execute_result"
    }
   ],
   "source": [
    "mysensor.circle_of_confusion"
   ]
  },
  {
   "cell_type": "code",
   "execution_count": null,
   "metadata": {},
   "outputs": [
    {
     "ename": "TypeError",
     "evalue": "'Quantity' object is not callable",
     "output_type": "error",
     "traceback": [
      "\u001b[0;31m---------------------------------------------------------------------------\u001b[0m",
      "\u001b[0;31mTypeError\u001b[0m                                 Traceback (most recent call last)",
      "\u001b[0;32m/tmp/ipykernel_1945/974806823.py\u001b[0m in \u001b[0;36m<module>\u001b[0;34m\u001b[0m\n\u001b[0;32m----> 1\u001b[0;31m \u001b[0mmysensor\u001b[0m\u001b[0;34m.\u001b[0m\u001b[0mcircle_of_confusion\u001b[0m\u001b[0;34m(\u001b[0m\u001b[0;34m\"zeiss\"\u001b[0m\u001b[0;34m)\u001b[0m\u001b[0;34m\u001b[0m\u001b[0;34m\u001b[0m\u001b[0m\n\u001b[0m",
      "\u001b[0;31mTypeError\u001b[0m: 'Quantity' object is not callable"
     ]
    }
   ],
   "source": [
    "mysensor.circle_of_confusion(\"zeiss\")\n"
   ]
  },
  {
   "cell_type": "code",
   "execution_count": null,
   "metadata": {},
   "outputs": [
    {
     "data": {
      "text/html": [
       "0.011352924243950934 Circle_of_confusion"
      ],
      "text/latex": [
       "$0.011352924243950934\\ \\mathrm{Circle\\_of\\_confusion}$"
      ],
      "text/plain": [
       "0.011352924243950934 <Unit('Circle_of_confusion')>"
      ]
     },
     "execution_count": null,
     "metadata": {},
     "output_type": "execute_result"
    }
   ],
   "source": [
    "mysensor.circle_of_confusion\n"
   ]
  },
  {
   "cell_type": "code",
   "execution_count": null,
   "metadata": {},
   "outputs": [
    {
     "data": {
      "text/plain": [
       "<__main__.aPyopticum.Sensor.Raw_sensor_data at 0x7fa95339a0a0>"
      ]
     },
     "execution_count": null,
     "metadata": {},
     "output_type": "execute_result"
    }
   ],
   "source": [
    "mysensor.sensor_data"
   ]
  },
  {
   "cell_type": "code",
   "execution_count": null,
   "metadata": {},
   "outputs": [
    {
     "data": {
      "text/plain": [
       "\" sensor_data --> variables :{'die_size_x': <Quantity(13.0, 'millimeter')>, 'die_size_y': <Quantity(11.0, 'millimeter')>, 'pixel_size_x': <Quantity(2.7, 'micrometer')>, 'pixel_size_y': <Quantity(2.7, 'micrometer')>, 'diagonal': <Quantity(17.0293864, 'millimeter')>, 'circle_of_confusion': <Quantity(0.0113529242, 'Circle_of_confusion')>, 'circle_of_confusion_method': 'Modern'} \\n methods :['Raw_sensor_data', '_Sensor__circle_of_confusion', '_Sensor__diagonal', '__class__', '__delattr__', '__dict__', '__dir__', '__doc__', '__eq__', '__format__', '__ge__', '__getattr__', '__getattribute__', '__gt__', '__hash__', '__init__', '__init_subclass__', '__le__', '__lt__', '__module__', '__ne__', '__new__', '__reduce__', '__reduce_ex__', '__repr__', '__setattr__', '__sizeof__', '__str__', '__subclasshook__', '__weakref__', 'circle_of_confusion_help', 'sensor_data', 'set_circle_of_confusion_method']\""
      ]
     },
     "metadata": {},
     "output_type": "display_data"
    },
    {
     "ename": "Exception",
     "evalue": " sensor data must be of sensor data class type",
     "output_type": "error",
     "traceback": [
      "\u001b[0;31m---------------------------------------------------------------------------\u001b[0m",
      "\u001b[0;31mException\u001b[0m                                 Traceback (most recent call last)",
      "\u001b[0;32m/tmp/ipykernel_1945/4142141167.py\u001b[0m in \u001b[0;36m<module>\u001b[0;34m\u001b[0m\n\u001b[0;32m----> 1\u001b[0;31m \u001b[0mmysensor\u001b[0m\u001b[0;34m.\u001b[0m\u001b[0msensor_data\u001b[0m \u001b[0;34m=\u001b[0m \u001b[0;36m12\u001b[0m\u001b[0;34m\u001b[0m\u001b[0;34m\u001b[0m\u001b[0m\n\u001b[0m",
      "\u001b[0;32m/tmp/ipykernel_1945/3863815842.py\u001b[0m in \u001b[0;36m__setattr__\u001b[0;34m(self, attr, value)\u001b[0m\n\u001b[1;32m     82\u001b[0m                     \u001b[0mself\u001b[0m\u001b[0;34m.\u001b[0m\u001b[0m__dict\u001b[0m\u001b[0;34m[\u001b[0m\u001b[0;34m'sensor_data'\u001b[0m\u001b[0;34m]\u001b[0m \u001b[0;34m==\u001b[0m \u001b[0mself\u001b[0m\u001b[0;34m.\u001b[0m\u001b[0msensor_data\u001b[0m\u001b[0;34m\u001b[0m\u001b[0;34m\u001b[0m\u001b[0m\n\u001b[1;32m     83\u001b[0m                 \u001b[0;32melse\u001b[0m\u001b[0;34m:\u001b[0m\u001b[0;34m\u001b[0m\u001b[0;34m\u001b[0m\u001b[0m\n\u001b[0;32m---> 84\u001b[0;31m                     \u001b[0;32mraise\u001b[0m \u001b[0mException\u001b[0m\u001b[0;34m(\u001b[0m\u001b[0;34mf\" sensor data must be of sensor data class type\"\u001b[0m\u001b[0;34m)\u001b[0m\u001b[0;34m\u001b[0m\u001b[0;34m\u001b[0m\u001b[0m\n\u001b[0m\u001b[1;32m     85\u001b[0m             \u001b[0;31m#next make it look like these are top level attributes\u001b[0m\u001b[0;34m\u001b[0m\u001b[0;34m\u001b[0m\u001b[0;34m\u001b[0m\u001b[0m\n\u001b[1;32m     86\u001b[0m             \u001b[0;32mif\u001b[0m \u001b[0mattr\u001b[0m \u001b[0;32min\u001b[0m \u001b[0mvariables\u001b[0m\u001b[0;34m:\u001b[0m\u001b[0;34m\u001b[0m\u001b[0;34m\u001b[0m\u001b[0m\n",
      "\u001b[0;31mException\u001b[0m:  sensor data must be of sensor data class type"
     ]
    }
   ],
   "source": [
    "mysensor.sensor_data = 12"
   ]
  },
  {
   "cell_type": "code",
   "execution_count": null,
   "metadata": {},
   "outputs": [],
   "source": [
    "mysensor.set_circle_of_confusion_method(\"zeiss\")"
   ]
  },
  {
   "cell_type": "code",
   "execution_count": null,
   "metadata": {},
   "outputs": [
    {
     "data": {
      "text/html": [
       "0.011352924243950934 Circle_of_confusion"
      ],
      "text/latex": [
       "$0.011352924243950934\\ \\mathrm{Circle\\_of\\_confusion}$"
      ],
      "text/plain": [
       "0.011352924243950934 <Unit('Circle_of_confusion')>"
      ]
     },
     "execution_count": null,
     "metadata": {},
     "output_type": "execute_result"
    }
   ],
   "source": [
    "mysensor.circle_of_confusion\n"
   ]
  },
  {
   "cell_type": "code",
   "execution_count": null,
   "metadata": {},
   "outputs": [],
   "source": []
  }
 ],
 "metadata": {
  "kernelspec": {
   "display_name": "Python 3 (ipykernel)",
   "language": "python",
   "name": "python3"
  }
 },
 "nbformat": 4,
 "nbformat_minor": 4
}
