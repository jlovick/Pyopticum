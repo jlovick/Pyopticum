{
 "cells": [
  {
   "cell_type": "code",
   "execution_count": null,
   "metadata": {},
   "outputs": [],
   "source": [
    "# default_exp core"
   ]
  },
  {
   "cell_type": "markdown",
   "metadata": {},
   "source": [
    "# Pyopticum\n",
    "\n",
    "> API details."
   ]
  },
  {
   "cell_type": "code",
   "execution_count": null,
   "metadata": {},
   "outputs": [],
   "source": [
    "#hide\n",
    "from nbdev.showdoc import *\n",
    "from fastcore.test import *\n",
    "import os"
   ]
  },
  {
   "cell_type": "markdown",
   "metadata": {},
   "source": [
    "### First of all lets do some imports"
   ]
  },
  {
   "cell_type": "code",
   "execution_count": null,
   "metadata": {},
   "outputs": [
    {
     "data": {
      "text/html": [
       "Using Ipython"
      ],
      "text/plain": [
       "<IPython.core.display.HTML object>"
      ]
     },
     "metadata": {},
     "output_type": "display_data"
    }
   ],
   "source": [
    "#export\n",
    "#nbdev_comment from __future__ import print_function\n",
    "from typing import overload\n",
    "import random\n",
    "import pint\n",
    "import math\n",
    "import inspect\n",
    "import os\n",
    "\n",
    "try:\n",
    "      from IPython.display import display, Math, Latex, HTML, Markdown\n",
    "      display(HTML(\"Using Ipython\"))\n",
    "      ascii_print = print\n",
    "      def print(*args, **kwargs):\n",
    "        for item in args:\n",
    "            display(item)\n",
    "\n",
    "except ImportError:\n",
    "      from bs4 import BeautifulSoup\n",
    "      from markdown import markdown\n",
    "      print(\"unable to import IPython, ignoring, using basic print\")\n",
    "\n",
    "\n",
    "### Lets set up Pint with some useful extra entities\n",
    "\n",
    "#export\n",
    "ureg = pint.UnitRegistry()\n",
    "ureg.define('Circle_of_confusion = [] = coc')\n",
    "ureg.define('Aperture = [] = fnumber')"
   ]
  },
  {
   "cell_type": "code",
   "execution_count": null,
   "metadata": {},
   "outputs": [],
   "source": []
  },
  {
   "cell_type": "markdown",
   "metadata": {},
   "source": [
    "### Define a base class that make POD members availible at top layer as attributes"
   ]
  },
  {
   "cell_type": "code",
   "execution_count": null,
   "metadata": {},
   "outputs": [],
   "source": [
    "#export\n",
    "class Help_system:\n",
    "    def __init__(self):\n",
    "        pass\n",
    "\n",
    "    def initialize_help_system(self):\n",
    "        #print(f\"createing help system\")\n",
    "        self.__dict__['ureg'] = pint.UnitRegistry()\n",
    "        self.__dict__['is_ipython'] = self.__is_running_under_ipython()\n",
    "        if self.is_ipython:\n",
    "            self.ureg.default_format = \"L\"\n",
    "        else:\n",
    "            self.ureg.default_format = \"P\"\n",
    "\n",
    "    def __is_running_under_ipython(self):\n",
    "        try:\n",
    "            get_ipython\n",
    "            return True\n",
    "        except:\n",
    "            return False\n",
    "\n",
    "    def wrap_unit(self, eqn, style):\n",
    "        if (self.is_ipython):\n",
    "            if style.lower() == \"math\":\n",
    "                return Math(eqn)\n",
    "            if style.lower() == \"html\":\n",
    "                return HTML(eqn)\n",
    "            if style.lower() == \"latex\":\n",
    "                return Latex(eqn)\n",
    "            if style.lower() == \"markdown\":\n",
    "                return Markdown(eqn)\n",
    "        else:\n",
    "            if style.lower() == \"html\":\n",
    "                soup = BeautifulSoup(eqn)\n",
    "                return soup.get_text()\n",
    "            if style.lower() == \"markdown\":\n",
    "                html = markdown(eqn)\n",
    "                soup = BeautifulSoup(html, features='html.parser')\n",
    "                return soup.get_text()\n",
    "        return eqnprint\n",
    "\n",
    "    def help(self, command):\n",
    "        \"\"\"\n",
    "        runs the help function for the command\n",
    "        \"\"\"\n",
    "        method_to_call = getattr(self, command+'_help')\n",
    "        result = method_to_call()"
   ]
  },
  {
   "cell_type": "code",
   "execution_count": null,
   "metadata": {},
   "outputs": [],
   "source": [
    "#export\n",
    "class POD_as_top_level_attributes:\n",
    "    def __init__(self):\n",
    "        print(\"POD init\")\n",
    "        self.__dict__['class_preamble'] = self.__class__.__name__\n",
    "        self.__dict__['pod_name'] = \"\"\n",
    "\n",
    "    def __getattr__(self, attr):\n",
    "        attr = attr.replace(\"_\"+self.__dict__['class_preamble'],\"\")\n",
    "        #print(f\"getting {attr}\")\n",
    "        variables = vars(self.__dict__[self.__dict__['pod_name']])\n",
    "        if attr in variables:\n",
    "            return getattr(self.__dict__[self.__dict__['pod_name']],attr)\n",
    "\n",
    "        methods = [i for i in dir(self) if not inspect.ismethod(i)]\n",
    "        print(f\"getattr --> {attr} --> variables :{variables} \\n methods :{methods}\")\n",
    "        #next check if we can calculate it\n",
    "        if (\"__\" + attr in methods):\n",
    "            return getattr(self,\"__\"+attr)()\n",
    "        else:\n",
    "            raise Exception(f\"__getattr__ Cannot find Attribute :{attr} \")\n",
    "\n",
    "    def __setattr__(self, attr, value):\n",
    "        attr = attr.replace(\"_\"+self.class_preamble,\"\")\n",
    "        variables = vars(self.__dict__[self.__dict__['pod_name']])\n",
    "        methods = [i for i in dir(self) if not inspect.ismethod(i)]\n",
    "        not_methods = [i for i in dir(self) if  inspect.ismethod(i)]\n",
    "        print(f\"setattr --> {attr} --> variables :{variables} \\n methods :{methods}\")\n",
    "        if (\"_\"+self.__dict__['class_preamble']+\"__\" + attr in methods):\n",
    "            raise Exception(f\"__setattr__ Attribute [ {attr} ] is not writeable \")\n",
    "\n",
    "        if attr == self.__dict__['class_preamble']:\n",
    "            if type(value) == type(self.__dict__[self.__dict__['pod_name']]):\n",
    "                self.__dict[pod_name] == self.__dict__[self.__dict__['pod_name']]\n",
    "            else:\n",
    "                raise Exception(f\" sensor data must be of sensor data class type\")\n",
    "        #next make it look like these are top level attributes\n",
    "        if attr in variables:\n",
    "            setattr(self.__dict__[self.__dict__['pod_name']],attr,value)\n",
    "        #if this is in the right class lets let it be changed here (should never be called)\n",
    "        elif (attr in methods):\n",
    "            #self.__dict__[attr] = value\n",
    "            raise Exception(f\"__setattr__ Cannot set this Attribute : {attr}\")\n",
    "        #ok i give up\n",
    "        else:\n",
    "            raise Exception(f\"__setattr__ Attribute [ {attr} ] is not found \")"
   ]
  },
  {
   "cell_type": "code",
   "execution_count": null,
   "metadata": {},
   "outputs": [],
   "source": [
    "#export\n",
    "class Sensor(POD_as_top_level_attributes, Help_system):\n",
    "    \"\"\"\n",
    "    class to hold sensor data and methods\n",
    "    \"\"\"\n",
    "    class Raw_sensor_data:\n",
    "        def __init__(self):\n",
    "            self.die_size_x = 0\n",
    "            self.die_size_y = 0\n",
    "            self.pixel_size_x = 0\n",
    "            self.pixel_size_y = 0\n",
    "            self.diagonal = 0\n",
    "            self.circle_of_confusion = 0\n",
    "            self.circle_of_confusion_method = \"Modern\"\n",
    "\n",
    "    @ureg.wraps(None, (None, 'mm','mm','micrometer','micrometer'))\n",
    "    def __init__(self, die_size_x,die_size_y, pixel_size_x,pixel_size_y):\n",
    "        # system setup\n",
    "        self.initialize_help_system()\n",
    "        self.__dict__['class_preamble'] = self.__class__.__name__\n",
    "        self.__dict__['pod_name'] = \"sensor_data\"\n",
    "        self.__dict__[self.pod_name] = self.Raw_sensor_data()\n",
    "        #class variable setup\n",
    "        self.sensor_data.die_size_x = die_size_x*ureg.mm\n",
    "        self.sensor_data.die_size_y = die_size_y*ureg.mm\n",
    "        self.sensor_data.diagonal = self.__diagonal()\n",
    "        self.sensor_data.pixel_size_x = 2.7 *ureg.micrometer\n",
    "        self.sensor_data.pixel_size_y = 2.7 *ureg.micrometer\n",
    "        self.sensor_data.circle_of_confusion_method = \"Modern\"\n",
    "        self.sensor_data.circle_of_confusion = self.__circle_of_confusion(frame_diagonal=self.diagonal, focal_length=0*ureg.mm, method=self.sensor_data.circle_of_confusion_method)\n",
    "\n",
    "\n",
    "    @ureg.wraps('mm',(None))\n",
    "    def __diagonal(self):\n",
    "        return math.sqrt( math.pow(self.sensor_data.die_size_x.magnitude,2) + math.pow(self.sensor_data.die_size_y.magnitude,2) )*ureg.mm\n",
    "\n",
    "\n",
    "    def circle_of_confusion_help(self)->None:\n",
    "        print(HTML(\"<H2>Circle of Confusion</H2>\"))\n",
    "        print(HTML(\"Modern, Standard Method (Default)\tFrame’s diagonal / 1500\"))\n",
    "        print(HTML(\"Zeiss, Formula\tFrame’s diagonal / 1730\"))\n",
    "        print(HTML(\"Kodak, Formula\tFocal length / 1720\"))\n",
    "        print(HTML(\"Archaic, Standard\tFrame’s diagonal / 1000\"))\n",
    "        print(HTML(\"<code> circle_confusion(frame_diagonal,focal_length,method = 'modern')</code>\"))\n",
    "        return 1\n",
    "\n",
    "    def set_circle_of_confusion_method(self,method=\"modern\",*args, **kwargs):\n",
    "        coc_method = [ \"modern\", \"zeiss\",\"kodak\", \"archaic\" ]\n",
    "        if method not in coc_method:\n",
    "            raise ValueError(\"Circle of confusion method not supported\")\n",
    "        self.sensor_data.circle_of_confusion_method = method\n",
    "        focal_length = None\n",
    "        if method == \"archaic\":\n",
    "            #search for a lens\n",
    "            if \"focal_length\" in kwargs:\n",
    "                if isinstance(kwargs[\"focal_length\"], Lens ):\n",
    "                    print(\"got a lens object\")\n",
    "                    focal_length == kwargs[\"focal_length\"].focal_length\n",
    "                elif isinstance(kwargs[\"focal_length\"], ureg.mm):\n",
    "                    print(\"got a length in mm\")\n",
    "                    focal_length == kwargs[\"focal_length\"]*ureg.mm\n",
    "                elif isinstance(in_arg, (int, float, long)):\n",
    "                    focal_length = in_arg*ureg.mm\n",
    "            else:\n",
    "                for in_arg in args:\n",
    "                    if isinstance(in_arg,Lens):\n",
    "                        focal_length = in_arg.focal_length\n",
    "                    elif isinstance(in_arg, ureg.mm):\n",
    "                        focal_length = in_arg\n",
    "                    elif isinstance(in_arg, (int, float, long)):\n",
    "                        focal_length = in_arg*ureg.mm\n",
    "        #ok if were still dont have something valid raise an error\n",
    "        if focal_length  is None:\n",
    "            raise ValueError(\"Focal Length must be specified and greater than 0\")\n",
    "        print(f\"focal length is {focal_length} {type(focal_length)}\")\n",
    "        self.sensor_data.circle_of_confusion = self.__circle_of_confusion(frame_diagonal=self.diagonal, focal_length=focal_length, method=self.sensor_data.circle_of_confusion_method)\n",
    "\n",
    "    @ureg.wraps(ureg.coc, (None, 'mm','mm',None))\n",
    "    def __circle_of_confusion(self,frame_diagonal, focal_length, method):\n",
    "        def modern(frame_diagonal, ignore):\n",
    "            return frame_diagonal/1500\n",
    "        def zeiss(frame_diagonal, ignore):\n",
    "            return frame_diagonal/1730\n",
    "        def kodak(ignore, focal_length):\n",
    "            return focal_length/1720\n",
    "        def archaic(frame_diagonal, ignore):\n",
    "            return focal_length/1000\n",
    "\n",
    "        coc_method = { \"modern\": modern,\n",
    "                      \"zeiss\": zeiss,\n",
    "                      \"kodak\": kodak,\n",
    "                      \"archaic\": archaic}\n",
    "        if method.lower() not in coc_method:\n",
    "            raise ValueError(f\"Unknown Circle of Confusion Method {method}\")\n",
    "\n",
    "        #if focal_length\n",
    "        coc = coc_method.get(method.lower())(frame_diagonal,focal_length)\n",
    "        return coc * ureg('coc')"
   ]
  },
  {
   "cell_type": "code",
   "execution_count": null,
   "metadata": {},
   "outputs": [],
   "source": [
    "#export\n",
    "class Lens(POD_as_top_level_attributes, Help_system):\n",
    "    class Raw_lens_data():\n",
    "        def __init__(self):\n",
    "            self.focal_length = 0*ureg.mm\n",
    "            self.aperture = 0*ureg.mm\n",
    "\n",
    "    @ureg.wraps(None,(None,'mm','Aperture'))\n",
    "    def __init__(self, focal_length, aperture):\n",
    "        # system setup\n",
    "        self.initialize_help_system()\n",
    "        self.__dict__['class_preamble'] = self.__class__.__name__\n",
    "        self.__dict__['pod_name'] = \"lens_data\"\n",
    "        self.__dict__[self.pod_name] = self.Raw_lens_data()\n",
    "\n",
    "        self.lens_data.focal_length = focal_length*ureg.mm\n",
    "        self.lens_data.aperture = aperture*ureg.Aperture\n",
    "        print(self.lens_data.focal_length)\n",
    "\n",
    "    def angle_of_view_help(self):\n",
    "        print(HTML(\"<h2>Angle of view</h2>\"))\n",
    "        print(HTML(\"<span>Figures out the witdh of the angle of view, given sensor / lens characteristics.</span>\"))\n",
    "        print(self.wrap_unit(r\"\\theta=2\\cdot\\arctan\\left(\\frac{h(s-f)}{2sf}\\right)\",\"math\"))\n",
    "        print(HTML(\"<code> angle_of_view(frame_dimension, focal_length, focus_distance)</code>\"))\n",
    "\n",
    "    @ureg.wraps(ureg.radians, (None, 'mm','mm','mm' ))\n",
    "    def angle_of_view(self, frame_dimension, focal_length, focus_distance):\n",
    "        if self.echo_params:\n",
    "            print(HTML(f\"<code>Frame Dimension {frame_dimension} </br>Focal Length {focal_length}</br>Focus Distance {focus_distance}</code>\"))\n",
    "        aov = 2.0 * math.atan((frame_dimension * (focus_distance - focal_length))/(2*focus_distance*focal_length))\n",
    "        if self.echo_params:\n",
    "            print(HTML(f\"<span>Angle of View :{aov}\"))\n",
    "        return aov\n",
    "\n",
    "    def field_of_view_help(self):\n",
    "        print(self.wrap_unit(\"<h2>Field of View</h2>\",\"html\"))\n",
    "        print(self.wrap_unit(\"<a> implementation of this equation </a>\",\"html\"))\n",
    "        print(self.wrap_unit(r'w=2s\\cdot\\tan\\left(\\frac{\\theta}{2}\\right)',\"Math\"))\n",
    "\n",
    "    @ureg.wraps(ureg.meters, (None, 'm', 'rad') )\n",
    "    def field_of_view(self, focus_distance, angle_of_view):\n",
    "        view_width = 2*focus_distance*math.tan( angle_of_view / 2.0)\n",
    "        return view_width\n",
    "\n",
    "    def hyperfocal_distance_help(self):\n",
    "        print(HTML(\"<H2>Hyperfocal Distance</H2>\"))\n",
    "        print(HTML(\"<span> calculates hyperfocal distance\"))\n",
    "        print(self.wrap_unit(r\"H=\\frac{f^{2}}{N\\cdot{c}}+f\",\"Math\"))\n",
    "\n",
    "    @ureg.wraps(ureg.meters, (None, 'mm','fnumber','coc'))\n",
    "    def hyperfocal_distance(self, focal_length, f_number, circle_of_confusion=-1):\n",
    "        if type(circle_of_confusion) == type( Sensor ):\n",
    "            this_circle_of_confusion = circle_of_confusion.circle_of_confusion\n",
    "        elif type(circle_of_confusion) == type(int):\n",
    "            this_circle_of_confusion = circle_of_confusion\n",
    "\n",
    "        if type(f_number) == type ( Lens):\n",
    "            this_fnumber = f_number.aperture\n",
    "        elif type(f_number) == type( int ):\n",
    "            this_fnumber = f_number\n",
    "\n",
    "        hfd = (focal_length*focal_length)/(this_f_number*this_circle_of_confusion)+focal_length\n",
    "        return hfd"
   ]
  },
  {
   "cell_type": "code",
   "execution_count": null,
   "metadata": {},
   "outputs": [],
   "source": []
  },
  {
   "cell_type": "code",
   "execution_count": null,
   "metadata": {},
   "outputs": [],
   "source": [
    "#export\n",
    "class aPyopticum(Help_system):\n",
    "    \"\"\"\n",
    "    Initial class to hold optical formula's etc\n",
    "\n",
    "    \"\"\"\n",
    "\n",
    "    ###################################################################################################################\n",
    "    def __init__(self, echo_params = False):\n",
    "        #system setup\n",
    "        self.initialize_help_system()\n",
    "        #direct setup\n",
    "        self.data = []\n",
    "        self.echo_params = echo_params\n",
    "\n",
    "\n",
    "\n",
    "    def about(self):\n",
    "        \"\"\"\n",
    "        about this library and usage\n",
    "        \"\"\"\n",
    "        print(self.wrap_unit(\"<h1>Pyopticum</h1>\",\"html\"))\n",
    "        print(self.wrap_unit(\"see <a href='https://github.com/jlovick/Pyopticum'> Pyopticum </a> for source\",\"html\"))"
   ]
  },
  {
   "cell_type": "code",
   "execution_count": null,
   "metadata": {},
   "outputs": [
    {
     "name": "stdout",
     "output_type": "stream",
     "text": [
      "Converted 00_core.ipynb.\n",
      "Converted index.ipynb.\n"
     ]
    }
   ],
   "source": [
    "from nbdev.export import *\n",
    "notebook2script()"
   ]
  },
  {
   "cell_type": "code",
   "execution_count": null,
   "metadata": {},
   "outputs": [
    {
     "data": {
      "text/plain": [
       "'createing help system'"
      ]
     },
     "metadata": {},
     "output_type": "display_data"
    },
    {
     "data": {
      "text/html": [
       "<h1>Pyopticum</h1>"
      ],
      "text/plain": [
       "<IPython.core.display.HTML object>"
      ]
     },
     "metadata": {},
     "output_type": "display_data"
    },
    {
     "data": {
      "text/html": [
       "see <a href='https://github.com/jlovick/Pyopticum'> Pyopticum </a> for source"
      ],
      "text/plain": [
       "<IPython.core.display.HTML object>"
      ]
     },
     "metadata": {},
     "output_type": "display_data"
    },
    {
     "data": {
      "text/html": [
       "<h1>Pyopticum</h1>"
      ],
      "text/plain": [
       "<IPython.core.display.HTML object>"
      ]
     },
     "metadata": {},
     "output_type": "display_data"
    },
    {
     "data": {
      "text/html": [
       "see <a href='https://github.com/jlovick/Pyopticum'> Pyopticum </a> for source"
      ],
      "text/plain": [
       "<IPython.core.display.HTML object>"
      ]
     },
     "metadata": {},
     "output_type": "display_data"
    },
    {
     "ename": "<class 'AssertionError'>",
     "evalue": "==:\nNone\ncreating help system",
     "output_type": "error",
     "traceback": [
      "\u001b[0;31m---------------------------------------------------------------------------\u001b[0m",
      "\u001b[0;31mAssertionError\u001b[0m                            Traceback (most recent call last)",
      "\u001b[0;32m/tmp/xpython_7113/3840943149.py\u001b[0m in \u001b[0;36m<module>\u001b[0;34m\u001b[0m\n\u001b[1;32m      1\u001b[0m \u001b[0mpc\u001b[0m \u001b[0;34m=\u001b[0m \u001b[0maPyopticum\u001b[0m\u001b[0;34m(\u001b[0m\u001b[0;34m)\u001b[0m\u001b[0;34m\u001b[0m\u001b[0;34m\u001b[0m\u001b[0m\n\u001b[1;32m      2\u001b[0m \u001b[0mpc\u001b[0m\u001b[0;34m.\u001b[0m\u001b[0mabout\u001b[0m\u001b[0;34m(\u001b[0m\u001b[0;34m)\u001b[0m\u001b[0;34m\u001b[0m\u001b[0;34m\u001b[0m\u001b[0m\n\u001b[0;32m----> 3\u001b[0;31m \u001b[0mtest_eq\u001b[0m\u001b[0;34m(\u001b[0m\u001b[0mpc\u001b[0m\u001b[0;34m.\u001b[0m\u001b[0mabout\u001b[0m\u001b[0;34m(\u001b[0m\u001b[0;34m)\u001b[0m\u001b[0;34m,\u001b[0m\u001b[0;34m\"creating help system\"\u001b[0m\u001b[0;34m)\u001b[0m\u001b[0;34m\u001b[0m\u001b[0;34m\u001b[0m\u001b[0m\n\u001b[0m",
      "\u001b[0;32m/opt/conda/lib/python3.8/site-packages/fastcore/test.py\u001b[0m in \u001b[0;36mtest_eq\u001b[0;34m(a, b)\u001b[0m\n\u001b[1;32m     34\u001b[0m \u001b[0;32mdef\u001b[0m \u001b[0mtest_eq\u001b[0m\u001b[0;34m(\u001b[0m\u001b[0ma\u001b[0m\u001b[0;34m,\u001b[0m\u001b[0mb\u001b[0m\u001b[0;34m)\u001b[0m\u001b[0;34m:\u001b[0m\u001b[0;34m\u001b[0m\u001b[0;34m\u001b[0m\u001b[0m\n\u001b[1;32m     35\u001b[0m     \u001b[0;34m\"`test` that `a==b`\"\u001b[0m\u001b[0;34m\u001b[0m\u001b[0;34m\u001b[0m\u001b[0m\n\u001b[0;32m---> 36\u001b[0;31m     \u001b[0mtest\u001b[0m\u001b[0;34m(\u001b[0m\u001b[0ma\u001b[0m\u001b[0;34m,\u001b[0m\u001b[0mb\u001b[0m\u001b[0;34m,\u001b[0m\u001b[0mequals\u001b[0m\u001b[0;34m,\u001b[0m \u001b[0;34m'=='\u001b[0m\u001b[0;34m)\u001b[0m\u001b[0;34m\u001b[0m\u001b[0;34m\u001b[0m\u001b[0m\n\u001b[0m\u001b[1;32m     37\u001b[0m \u001b[0;34m\u001b[0m\u001b[0m\n\u001b[1;32m     38\u001b[0m \u001b[0;31m# Cell\u001b[0m\u001b[0;34m\u001b[0m\u001b[0;34m\u001b[0m\u001b[0;34m\u001b[0m\u001b[0m\n",
      "\u001b[0;32m/opt/conda/lib/python3.8/site-packages/fastcore/test.py\u001b[0m in \u001b[0;36mtest\u001b[0;34m(a, b, cmp, cname)\u001b[0m\n\u001b[1;32m     24\u001b[0m     \u001b[0;34m\"`assert` that `cmp(a,b)`; display inputs and `cname or cmp.__name__` if it fails\"\u001b[0m\u001b[0;34m\u001b[0m\u001b[0;34m\u001b[0m\u001b[0m\n\u001b[1;32m     25\u001b[0m     \u001b[0;32mif\u001b[0m \u001b[0mcname\u001b[0m \u001b[0;32mis\u001b[0m \u001b[0;32mNone\u001b[0m\u001b[0;34m:\u001b[0m \u001b[0mcname\u001b[0m\u001b[0;34m=\u001b[0m\u001b[0mcmp\u001b[0m\u001b[0;34m.\u001b[0m\u001b[0m__name__\u001b[0m\u001b[0;34m\u001b[0m\u001b[0;34m\u001b[0m\u001b[0m\n\u001b[0;32m---> 26\u001b[0;31m     \u001b[0;32massert\u001b[0m \u001b[0mcmp\u001b[0m\u001b[0;34m(\u001b[0m\u001b[0ma\u001b[0m\u001b[0;34m,\u001b[0m\u001b[0mb\u001b[0m\u001b[0;34m)\u001b[0m\u001b[0;34m,\u001b[0m\u001b[0;34mf\"{cname}:\\n{a}\\n{b}\"\u001b[0m\u001b[0;34m\u001b[0m\u001b[0;34m\u001b[0m\u001b[0m\n\u001b[0m\u001b[1;32m     27\u001b[0m \u001b[0;34m\u001b[0m\u001b[0m\n\u001b[1;32m     28\u001b[0m \u001b[0;31m# Cell\u001b[0m\u001b[0;34m\u001b[0m\u001b[0;34m\u001b[0m\u001b[0;34m\u001b[0m\u001b[0m\n",
      "\u001b[0;31mAssertionError\u001b[0m: ==:\nNone\ncreating help system"
     ]
    }
   ],
   "source": [
    "pc = aPyopticum()\n",
    "pc.about()"
   ]
  },
  {
   "cell_type": "code",
   "execution_count": null,
   "metadata": {},
   "outputs": [],
   "source": []
  },
  {
   "cell_type": "code",
   "execution_count": null,
   "metadata": {},
   "outputs": [
    {
     "ename": "<class 'AttributeError'>",
     "evalue": "'aPyopticum' object has no attribute 'hyperfocal_distance_help'",
     "output_type": "error",
     "traceback": [
      "\u001b[0;31m---------------------------------------------------------------------------\u001b[0m",
      "\u001b[0;31mAttributeError\u001b[0m                            Traceback (most recent call last)",
      "\u001b[0;32m/tmp/xpython_3552/3896268338.py\u001b[0m in \u001b[0;36m<module>\u001b[0;34m\u001b[0m\n\u001b[0;32m----> 1\u001b[0;31m \u001b[0mpc\u001b[0m\u001b[0;34m.\u001b[0m\u001b[0mhelp\u001b[0m\u001b[0;34m(\u001b[0m\u001b[0;34m'hyperfocal_distance'\u001b[0m\u001b[0;34m)\u001b[0m\u001b[0;34m\u001b[0m\u001b[0;34m\u001b[0m\u001b[0m\n\u001b[0m",
      "\u001b[0;32m/tmp/xpython_3552/2639925386.py\u001b[0m in \u001b[0;36mhelp\u001b[0;34m(self, command)\u001b[0m\n\u001b[1;32m     43\u001b[0m         \u001b[0mruns\u001b[0m \u001b[0mthe\u001b[0m \u001b[0mhelp\u001b[0m \u001b[0mfunction\u001b[0m \u001b[0;32mfor\u001b[0m \u001b[0mthe\u001b[0m \u001b[0mcommand\u001b[0m\u001b[0;34m\u001b[0m\u001b[0;34m\u001b[0m\u001b[0m\n\u001b[1;32m     44\u001b[0m         \"\"\"\n\u001b[0;32m---> 45\u001b[0;31m         \u001b[0mmethod_to_call\u001b[0m \u001b[0;34m=\u001b[0m \u001b[0mgetattr\u001b[0m\u001b[0;34m(\u001b[0m\u001b[0mself\u001b[0m\u001b[0;34m,\u001b[0m \u001b[0mcommand\u001b[0m\u001b[0;34m+\u001b[0m\u001b[0;34m'_help'\u001b[0m\u001b[0;34m)\u001b[0m\u001b[0;34m\u001b[0m\u001b[0;34m\u001b[0m\u001b[0m\n\u001b[0m\u001b[1;32m     46\u001b[0m         \u001b[0mresult\u001b[0m \u001b[0;34m=\u001b[0m \u001b[0mmethod_to_call\u001b[0m\u001b[0;34m(\u001b[0m\u001b[0;34m)\u001b[0m\u001b[0;34m\u001b[0m\u001b[0;34m\u001b[0m\u001b[0m\n",
      "\u001b[0;31mAttributeError\u001b[0m: 'aPyopticum' object has no attribute 'hyperfocal_distance_help'"
     ]
    }
   ],
   "source": []
  },
  {
   "cell_type": "code",
   "execution_count": null,
   "metadata": {},
   "outputs": [
    {
     "ename": "<class 'AttributeError'>",
     "evalue": "'aPyopticum' object has no attribute 'angle_of_view'",
     "output_type": "error",
     "traceback": [
      "\u001b[0;31m---------------------------------------------------------------------------\u001b[0m",
      "\u001b[0;31mAttributeError\u001b[0m                            Traceback (most recent call last)",
      "\u001b[0;32m/tmp/xpython_3552/2765970246.py\u001b[0m in \u001b[0;36m<module>\u001b[0;34m\u001b[0m\n\u001b[1;32m      2\u001b[0m \u001b[0mflength\u001b[0m \u001b[0;34m=\u001b[0m \u001b[0;36m40\u001b[0m\u001b[0;34m*\u001b[0m\u001b[0mureg\u001b[0m\u001b[0;34m.\u001b[0m\u001b[0mmm\u001b[0m\u001b[0;34m\u001b[0m\u001b[0;34m\u001b[0m\u001b[0m\n\u001b[1;32m      3\u001b[0m \u001b[0mfdistance\u001b[0m \u001b[0;34m=\u001b[0m \u001b[0;36m3\u001b[0m\u001b[0;34m*\u001b[0m\u001b[0mureg\u001b[0m\u001b[0;34m.\u001b[0m\u001b[0mm\u001b[0m\u001b[0;34m\u001b[0m\u001b[0;34m\u001b[0m\u001b[0m\n\u001b[0;32m----> 4\u001b[0;31m \u001b[0maov\u001b[0m \u001b[0;34m=\u001b[0m \u001b[0mpc\u001b[0m\u001b[0;34m.\u001b[0m\u001b[0mangle_of_view\u001b[0m\u001b[0;34m(\u001b[0m\u001b[0mfdimension\u001b[0m\u001b[0;34m,\u001b[0m\u001b[0mflength\u001b[0m\u001b[0;34m,\u001b[0m\u001b[0mfdistance\u001b[0m\u001b[0;34m)\u001b[0m\u001b[0;34m\u001b[0m\u001b[0;34m\u001b[0m\u001b[0m\n\u001b[0m\u001b[1;32m      5\u001b[0m \u001b[0mprint\u001b[0m\u001b[0;34m(\u001b[0m\u001b[0;34mf\"Angle of View {aov.to('degrees')}\"\u001b[0m\u001b[0;34m)\u001b[0m\u001b[0;34m\u001b[0m\u001b[0;34m\u001b[0m\u001b[0m\n",
      "\u001b[0;31mAttributeError\u001b[0m: 'aPyopticum' object has no attribute 'angle_of_view'"
     ]
    }
   ],
   "source": [
    "fdimension = 15*ureg.mm\n",
    "flength = 40*ureg.mm\n",
    "fdistance = 3*ureg.m\n",
    "aov = .angle_of_view(fdimension,flength,fdistance)\n",
    "print(f\"Angle of View {aov.to('degrees')}\")"
   ]
  },
  {
   "cell_type": "code",
   "execution_count": null,
   "metadata": {},
   "outputs": [],
   "source": [
    "height = 1*ureg.meter\n",
    "fov = pc.field_of_view( height, aov)\n",
    "print(f\"field of view : {fov}\")"
   ]
  },
  {
   "cell_type": "code",
   "execution_count": null,
   "metadata": {},
   "outputs": [],
   "source": []
  },
  {
   "cell_type": "code",
   "execution_count": null,
   "metadata": {},
   "outputs": [
    {
     "ename": "<class 'ValueError'>",
     "evalue": "A wrapped function using strict=True requires quantity or a string for all arguments with not None units. (error found for mm, 40 millimeter)",
     "output_type": "error",
     "traceback": [
      "\u001b[0;31m---------------------------------------------------------------------------\u001b[0m",
      "\u001b[0;31mValueError\u001b[0m                                Traceback (most recent call last)",
      "\u001b[0;32m/tmp/xpython_7113/3483064882.py\u001b[0m in \u001b[0;36m<module>\u001b[0;34m\u001b[0m\n\u001b[0;32m----> 1\u001b[0;31m \u001b[0mmylens\u001b[0m \u001b[0;34m=\u001b[0m \u001b[0mLens\u001b[0m\u001b[0;34m(\u001b[0m\u001b[0;34m(\u001b[0m\u001b[0;36m40\u001b[0m \u001b[0;34m*\u001b[0m \u001b[0mureg\u001b[0m\u001b[0;34m.\u001b[0m\u001b[0mmm\u001b[0m\u001b[0;34m)\u001b[0m \u001b[0;34m,\u001b[0m\u001b[0;36m2.4\u001b[0m\u001b[0;34m*\u001b[0m\u001b[0mureg\u001b[0m\u001b[0;34m.\u001b[0m\u001b[0mAperture\u001b[0m\u001b[0;34m)\u001b[0m\u001b[0;34m\u001b[0m\u001b[0;34m\u001b[0m\u001b[0m\n\u001b[0m",
      "\u001b[0;32m/opt/conda/lib/python3.8/site-packages/pint/registry_helpers.py\u001b[0m in \u001b[0;36mwrapper\u001b[0;34m(*values, **kw)\u001b[0m\n\u001b[1;32m    277\u001b[0m             \u001b[0;31m# In principle, the values are used as is\u001b[0m\u001b[0;34m\u001b[0m\u001b[0;34m\u001b[0m\u001b[0;34m\u001b[0m\u001b[0m\n\u001b[1;32m    278\u001b[0m             \u001b[0;31m# When then extract the magnitudes when needed.\u001b[0m\u001b[0;34m\u001b[0m\u001b[0;34m\u001b[0m\u001b[0;34m\u001b[0m\u001b[0m\n\u001b[0;32m--> 279\u001b[0;31m             \u001b[0mnew_values\u001b[0m\u001b[0;34m,\u001b[0m \u001b[0mvalues_by_name\u001b[0m \u001b[0;34m=\u001b[0m \u001b[0mconverter\u001b[0m\u001b[0;34m(\u001b[0m\u001b[0mureg\u001b[0m\u001b[0;34m,\u001b[0m \u001b[0mvalues\u001b[0m\u001b[0;34m,\u001b[0m \u001b[0mstrict\u001b[0m\u001b[0;34m)\u001b[0m\u001b[0;34m\u001b[0m\u001b[0;34m\u001b[0m\u001b[0m\n\u001b[0m\u001b[1;32m    280\u001b[0m \u001b[0;34m\u001b[0m\u001b[0m\n\u001b[1;32m    281\u001b[0m             \u001b[0mresult\u001b[0m \u001b[0;34m=\u001b[0m \u001b[0mfunc\u001b[0m\u001b[0;34m(\u001b[0m\u001b[0;34m*\u001b[0m\u001b[0mnew_values\u001b[0m\u001b[0;34m,\u001b[0m \u001b[0;34m**\u001b[0m\u001b[0mkw\u001b[0m\u001b[0;34m)\u001b[0m\u001b[0;34m\u001b[0m\u001b[0;34m\u001b[0m\u001b[0m\n",
      "\u001b[0;32m/opt/conda/lib/python3.8/site-packages/pint/registry_helpers.py\u001b[0m in \u001b[0;36m_converter\u001b[0;34m(ureg, values, strict)\u001b[0m\n\u001b[1;32m    156\u001b[0m                         )\n\u001b[1;32m    157\u001b[0m                     \u001b[0;32melse\u001b[0m\u001b[0;34m:\u001b[0m\u001b[0;34m\u001b[0m\u001b[0;34m\u001b[0m\u001b[0m\n\u001b[0;32m--> 158\u001b[0;31m                         raise ValueError(\n\u001b[0m\u001b[1;32m    159\u001b[0m                             \u001b[0;34m\"A wrapped function using strict=True requires \"\u001b[0m\u001b[0;34m\u001b[0m\u001b[0;34m\u001b[0m\u001b[0m\n\u001b[1;32m    160\u001b[0m                             \u001b[0;34m\"quantity or a string for all arguments with not None units. \"\u001b[0m\u001b[0;34m\u001b[0m\u001b[0;34m\u001b[0m\u001b[0m\n",
      "\u001b[0;31mValueError\u001b[0m: A wrapped function using strict=True requires quantity or a string for all arguments with not None units. (error found for mm, 40 millimeter)"
     ]
    }
   ],
   "source": [
    "mylens = Lens((40 * ureg.mm) ,2.4*ureg.Aperture)"
   ]
  },
  {
   "cell_type": "code",
   "execution_count": null,
   "metadata": {},
   "outputs": [
    {
     "ename": "<class 'NameError'>",
     "evalue": "name 'mylens' is not defined",
     "output_type": "error",
     "traceback": [
      "\u001b[0;31m---------------------------------------------------------------------------\u001b[0m",
      "\u001b[0;31mNameError\u001b[0m                                 Traceback (most recent call last)",
      "\u001b[0;32m/tmp/xpython_7113/2376338725.py\u001b[0m in \u001b[0;36m<module>\u001b[0;34m\u001b[0m\n\u001b[0;32m----> 1\u001b[0;31m \u001b[0mmylens\u001b[0m\u001b[0;34m.\u001b[0m\u001b[0mfocal_length\u001b[0m\u001b[0;34m\u001b[0m\u001b[0;34m\u001b[0m\u001b[0m\n\u001b[0m",
      "\u001b[0;31mNameError\u001b[0m: name 'mylens' is not defined"
     ]
    }
   ],
   "source": [
    "mylens.focal_length "
   ]
  },
  {
   "cell_type": "code",
   "execution_count": null,
   "metadata": {},
   "outputs": [
    {
     "data": {
      "text/plain": [
       "'createing help system'"
      ]
     },
     "metadata": {},
     "output_type": "display_data"
    },
    {
     "data": {
      "text/plain": [
       "'got a lens object'"
      ]
     },
     "metadata": {},
     "output_type": "display_data"
    },
    {
     "ename": "<class 'ValueError'>",
     "evalue": "Focal Length must be specified and greater than 0",
     "output_type": "error",
     "traceback": [
      "\u001b[0;31m---------------------------------------------------------------------------\u001b[0m",
      "\u001b[0;31mValueError\u001b[0m                                Traceback (most recent call last)",
      "\u001b[0;32m/tmp/xpython_3552/2963947240.py\u001b[0m in \u001b[0;36m<module>\u001b[0;34m\u001b[0m\n\u001b[1;32m      1\u001b[0m \u001b[0mmysensor\u001b[0m \u001b[0;34m=\u001b[0m \u001b[0mSensor\u001b[0m\u001b[0;34m(\u001b[0m\u001b[0;36m13\u001b[0m\u001b[0;34m*\u001b[0m\u001b[0mureg\u001b[0m\u001b[0;34m.\u001b[0m\u001b[0mmm\u001b[0m\u001b[0;34m,\u001b[0m\u001b[0;36m11\u001b[0m\u001b[0;34m*\u001b[0m\u001b[0mureg\u001b[0m\u001b[0;34m.\u001b[0m\u001b[0mmm\u001b[0m\u001b[0;34m,\u001b[0m \u001b[0;36m2.7\u001b[0m\u001b[0;34m*\u001b[0m\u001b[0mureg\u001b[0m\u001b[0;34m.\u001b[0m\u001b[0mmicrometer\u001b[0m\u001b[0;34m,\u001b[0m \u001b[0;36m2.7\u001b[0m\u001b[0;34m*\u001b[0m\u001b[0mureg\u001b[0m\u001b[0;34m.\u001b[0m\u001b[0mmicrometer\u001b[0m\u001b[0;34m)\u001b[0m\u001b[0;34m\u001b[0m\u001b[0;34m\u001b[0m\u001b[0m\n\u001b[0;32m----> 2\u001b[0;31m \u001b[0mmysensor\u001b[0m\u001b[0;34m.\u001b[0m\u001b[0mset_circle_of_confusion_method\u001b[0m\u001b[0;34m(\u001b[0m\u001b[0;34m\"archaic\"\u001b[0m\u001b[0;34m,\u001b[0m\u001b[0mfocal_length\u001b[0m\u001b[0;34m=\u001b[0m\u001b[0mmylens\u001b[0m\u001b[0;34m)\u001b[0m\u001b[0;34m\u001b[0m\u001b[0;34m\u001b[0m\u001b[0m\n\u001b[0m\u001b[1;32m      3\u001b[0m \u001b[0mmysensor\u001b[0m\u001b[0;34m.\u001b[0m\u001b[0mcircle_of_confusion\u001b[0m\u001b[0;34m\u001b[0m\u001b[0;34m\u001b[0m\u001b[0m\n",
      "\u001b[0;32m/tmp/xpython_3552/1288953083.py\u001b[0m in \u001b[0;36mset_circle_of_confusion_method\u001b[0;34m(self, method, *args, **kwargs)\u001b[0m\n\u001b[1;32m     71\u001b[0m         \u001b[0;31m#ok if were still dont have something valid raise an error\u001b[0m\u001b[0;34m\u001b[0m\u001b[0;34m\u001b[0m\u001b[0;34m\u001b[0m\u001b[0m\n\u001b[1;32m     72\u001b[0m         \u001b[0;32mif\u001b[0m \u001b[0mfocal_length\u001b[0m  \u001b[0;32mis\u001b[0m \u001b[0;32mNone\u001b[0m\u001b[0;34m:\u001b[0m\u001b[0;34m\u001b[0m\u001b[0;34m\u001b[0m\u001b[0m\n\u001b[0;32m---> 73\u001b[0;31m             \u001b[0;32mraise\u001b[0m \u001b[0mValueError\u001b[0m\u001b[0;34m(\u001b[0m\u001b[0;34m\"Focal Length must be specified and greater than 0\"\u001b[0m\u001b[0;34m)\u001b[0m\u001b[0;34m\u001b[0m\u001b[0;34m\u001b[0m\u001b[0m\n\u001b[0m\u001b[1;32m     74\u001b[0m         \u001b[0mprint\u001b[0m\u001b[0;34m(\u001b[0m\u001b[0;34mf\"focal length is {focal_length} {type(focal_length)}\"\u001b[0m\u001b[0;34m)\u001b[0m\u001b[0;34m\u001b[0m\u001b[0;34m\u001b[0m\u001b[0m\n\u001b[1;32m     75\u001b[0m         \u001b[0mself\u001b[0m\u001b[0;34m.\u001b[0m\u001b[0msensor_data\u001b[0m\u001b[0;34m.\u001b[0m\u001b[0mcircle_of_confusion\u001b[0m \u001b[0;34m=\u001b[0m \u001b[0mself\u001b[0m\u001b[0;34m.\u001b[0m\u001b[0m__circle_of_confusion\u001b[0m\u001b[0;34m(\u001b[0m\u001b[0mframe_diagonal\u001b[0m\u001b[0;34m=\u001b[0m\u001b[0mself\u001b[0m\u001b[0;34m.\u001b[0m\u001b[0mdiagonal\u001b[0m\u001b[0;34m,\u001b[0m \u001b[0mfocal_length\u001b[0m\u001b[0;34m=\u001b[0m\u001b[0mfocal_length\u001b[0m\u001b[0;34m,\u001b[0m \u001b[0mmethod\u001b[0m\u001b[0;34m=\u001b[0m\u001b[0mself\u001b[0m\u001b[0;34m.\u001b[0m\u001b[0msensor_data\u001b[0m\u001b[0;34m.\u001b[0m\u001b[0mcircle_of_confusion_method\u001b[0m\u001b[0;34m)\u001b[0m\u001b[0;34m\u001b[0m\u001b[0;34m\u001b[0m\u001b[0m\n",
      "\u001b[0;31mValueError\u001b[0m: Focal Length must be specified and greater than 0"
     ]
    }
   ],
   "source": [
    "mysensor = Sensor(13*ureg.mm,11*ureg.mm, 2.7*ureg.micrometer, 2.7*ureg.micrometer)\n",
    "mysensor.set_circle_of_confusion_method(\"archaic\",focal_length=mylens)\n",
    "mysensor.circle_of_confusion"
   ]
  },
  {
   "cell_type": "code",
   "execution_count": null,
   "metadata": {},
   "outputs": [],
   "source": [
    "mysensor.diagonal "
   ]
  },
  {
   "cell_type": "code",
   "execution_count": null,
   "metadata": {},
   "outputs": [],
   "source": [
    "mysensor.diagonal = 12"
   ]
  },
  {
   "cell_type": "code",
   "execution_count": null,
   "metadata": {},
   "outputs": [],
   "source": [
    "mysensor.circle_of_confusion"
   ]
  },
  {
   "cell_type": "code",
   "execution_count": null,
   "metadata": {},
   "outputs": [],
   "source": [
    "mysensor.set_circle_of_confusion_method(\"archaic\",mylens)\n",
    "mysensor.circle_of_confusion"
   ]
  },
  {
   "cell_type": "code",
   "execution_count": null,
   "metadata": {},
   "outputs": [],
   "source": [
    "type(Lens)\n"
   ]
  },
  {
   "cell_type": "code",
   "execution_count": null,
   "metadata": {},
   "outputs": [],
   "source": [
    "mysensor.sensor_data"
   ]
  },
  {
   "cell_type": "code",
   "execution_count": null,
   "metadata": {},
   "outputs": [],
   "source": [
    "mysensor.sensor_data = 12"
   ]
  },
  {
   "cell_type": "code",
   "execution_count": null,
   "metadata": {},
   "outputs": [],
   "source": [
    "mysensor.set_circle_of_confusion_method(\"zeiss\")"
   ]
  },
  {
   "cell_type": "code",
   "execution_count": null,
   "metadata": {},
   "outputs": [],
   "source": [
    "mysensor.circle_of_confusion_method\n",
    "mysensor.circle_of_confusion"
   ]
  },
  {
   "cell_type": "code",
   "execution_count": null,
   "metadata": {},
   "outputs": [
    {
     "name": "stdout",
     "output_type": "stream",
     "text": [
      "Converted 00_core.ipynb.\n",
      "Converted index.ipynb.\n"
     ]
    }
   ],
   "source": [
    "\n"
   ]
  },
  {
   "cell_type": "code",
   "execution_count": null,
   "metadata": {},
   "outputs": [],
   "source": []
  }
 ],
 "metadata": {
  "kernelspec": {
   "display_name": "Python 3.8 (XPython)",
   "language": "python",
   "name": "xpython"
  }
 },
 "nbformat": 4,
 "nbformat_minor": 4
}
