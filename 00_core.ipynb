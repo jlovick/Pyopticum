{
 "cells": [
  {
   "cell_type": "code",
   "execution_count": null,
   "metadata": {},
   "outputs": [],
   "source": [
    "# default_exp core"
   ]
  },
  {
   "cell_type": "markdown",
   "metadata": {},
   "source": [
    "# Pyopticum\n",
    "\n",
    "> API details."
   ]
  },
  {
   "cell_type": "code",
   "execution_count": null,
   "metadata": {},
   "outputs": [],
   "source": [
    "#hide\n",
    "from nbdev.showdoc import *\n",
    "import os"
   ]
  },
  {
   "cell_type": "markdown",
   "metadata": {},
   "source": [
    "### First of all lets do some imports"
   ]
  },
  {
   "cell_type": "code",
   "execution_count": null,
   "metadata": {},
   "outputs": [
    {
     "data": {
      "text/html": [
       "Using Ipython"
      ],
      "text/plain": [
       "<IPython.core.display.HTML object>"
      ]
     },
     "metadata": {},
     "output_type": "display_data"
    }
   ],
   "source": [
    "#export\n",
    "#nbdev_comment from __future__ import print_function\n",
    "from typing import overload\n",
    "import random\n",
    "\n",
    "import pint\n",
    "from pint.testsuite import QuantityTestCase, helpers\n",
    "from pint import Context, DimensionalityError, UnitRegistry\n",
    "from pint.compat import np\n",
    "from pint.testsuite import QuantityTestCase, helpers\n",
    "from pint.unit import UnitsContainer\n",
    "from pint.util import ParserHelper\n",
    "\n",
    "import math\n",
    "import inspect\n",
    "import os\n",
    "import unittest\n",
    "import pytest\n",
    "import ipytest\n",
    "ipytest.autoconfig()\n",
    "\n",
    "\n",
    "try:\n",
    "      from IPython.display import display, Math, Latex, HTML, Markdown\n",
    "      display(HTML(\"Using Ipython\"))\n",
    "      ascii_print = print\n",
    "      def print(*args, **kwargs):\n",
    "        for item in args:\n",
    "            display(item)\n",
    "\n",
    "except ImportError:\n",
    "      from bs4 import BeautifulSoup\n",
    "      from markdown import markdown\n",
    "      print(\"unable to import IPython, ignoring, using basic print\")\n",
    "\n",
    "\n",
    "### Lets set up Pint with some useful extra entities\n",
    "\n",
    "#export\n",
    "ureg = pint.UnitRegistry()\n",
    "ureg.define('Circle_of_confusion = [] = coc')\n",
    "ureg.define('Aperture = [] = fnumber')"
   ]
  },
  {
   "cell_type": "code",
   "execution_count": null,
   "metadata": {},
   "outputs": [],
   "source": []
  },
  {
   "cell_type": "markdown",
   "metadata": {},
   "source": [
    "### Define a base class that make POD members availible at top layer as attributes"
   ]
  },
  {
   "cell_type": "code",
   "execution_count": null,
   "metadata": {},
   "outputs": [],
   "source": [
    "#export\n",
    "class Help_system:\n",
    "    def __init__(self):\n",
    "        pass\n",
    "\n",
    "    def initialize_help_system(self):\n",
    "        #print(f\"createing help system\")\n",
    "        self.__dict__['ureg'] = pint.UnitRegistry()\n",
    "        self.__dict__['is_ipython'] = self.__is_running_under_ipython()\n",
    "        if self.is_ipython:\n",
    "            self.ureg.default_format = \"L\"\n",
    "        else:\n",
    "            self.ureg.default_format = \"P\"\n",
    "\n",
    "    def __is_running_under_ipython(self):\n",
    "        try:\n",
    "            get_ipython\n",
    "            return True\n",
    "        except:\n",
    "            return False\n",
    "\n",
    "    def wrap_unit(self, eqn, style):\n",
    "        if (self.is_ipython):\n",
    "            if style.lower() == \"math\":\n",
    "                return Math(eqn)\n",
    "            if style.lower() == \"html\":\n",
    "                return HTML(eqn)\n",
    "            if style.lower() == \"latex\":\n",
    "                return Latex(eqn)\n",
    "            if style.lower() == \"markdown\":\n",
    "                return Markdown(eqn)\n",
    "        else:\n",
    "            if style.lower() == \"html\":\n",
    "                soup = BeautifulSoup(eqn)\n",
    "                return soup.get_text()\n",
    "            if style.lower() == \"markdown\":\n",
    "                html = markdown(eqn)\n",
    "                soup = BeautifulSoup(html, features='html.parser')\n",
    "                return soup.get_text()\n",
    "        return eqnprint\n",
    "\n",
    "    def help(self, command):\n",
    "        \"\"\"\n",
    "        runs the help function for the command\n",
    "        \"\"\"\n",
    "        method_to_call = getattr(self, command+'_help')\n",
    "        result = method_to_call()"
   ]
  },
  {
   "cell_type": "code",
   "execution_count": null,
   "metadata": {},
   "outputs": [],
   "source": [
    "#export\n",
    "class POD_as_top_level_attributes:\n",
    "    def __init__(self):\n",
    "        print(\"POD init\")\n",
    "        self.__dict__['class_preamble'] = self.__class__.__name__\n",
    "        self.__dict__['pod_name'] = \"\"\n",
    "\n",
    "    def __getattr__(self, attr):\n",
    "        attr = attr.replace(\"_\"+self.__dict__['class_preamble'],\"\")\n",
    "        #print(f\"getting {attr}\")\n",
    "        variables = vars(self.__dict__[self.__dict__['pod_name']])\n",
    "        if attr in variables:\n",
    "            return getattr(self.__dict__[self.__dict__['pod_name']],attr)\n",
    "\n",
    "        methods = [i for i in dir(self) if not inspect.ismethod(i)]\n",
    "        #print(f\"getattr --> {attr} --> variables :{variables} \\n methods :{methods}\")\n",
    "        #next check if we can calculate it\n",
    "        if (\"__\" + attr in methods):\n",
    "            return getattr(self,\"__\"+attr)()\n",
    "        else:\n",
    "            raise Exception(f\"__getattr__ Cannot find Attribute :{attr} \")\n",
    "\n",
    "    def __setattr__(self, attr, value):\n",
    "        attr = attr.replace(\"_\"+self.class_preamble,\"\")\n",
    "        variables = vars(self.__dict__[self.__dict__['pod_name']])\n",
    "        methods = [i for i in dir(self) if not inspect.ismethod(i)]\n",
    "        not_methods = [i for i in dir(self) if  inspect.ismethod(i)]\n",
    "        print(f\"setattr --> {attr} --> variables :{variables} \\n methods :{methods}\")\n",
    "        if (\"_\"+self.__dict__['class_preamble']+\"__\" + attr in methods):\n",
    "            raise Exception(f\"__setattr__ Attribute [ {attr} ] is not writeable \")\n",
    "\n",
    "        if attr == self.__dict__['class_preamble']:\n",
    "            if type(value) == type(self.__dict__[self.__dict__['pod_name']]):\n",
    "                self.__dict[pod_name] == self.__dict__[self.__dict__['pod_name']]\n",
    "            else:\n",
    "                raise Exception(f\" sensor data must be of sensor data class type\")\n",
    "        #next make it look like these are top level attributes\n",
    "        if attr in variables:\n",
    "            setattr(self.__dict__[self.__dict__['pod_name']],attr,value)\n",
    "        #if this is in the right class lets let it be changed here (should never be called)\n",
    "        elif (attr in methods):\n",
    "            #self.__dict__[attr] = value\n",
    "            raise Exception(f\"__setattr__ Cannot set this Attribute : {attr}\")\n",
    "        #ok i give up\n",
    "        else:\n",
    "            raise Exception(f\"__setattr__ Attribute [ {attr} ] is not found \")"
   ]
  },
  {
   "cell_type": "code",
   "execution_count": null,
   "metadata": {},
   "outputs": [],
   "source": [
    "#export\n",
    "class Sensor(POD_as_top_level_attributes, Help_system):\n",
    "    \"\"\"\n",
    "    class to hold sensor data and methods\n",
    "    \"\"\"\n",
    "    class Raw_sensor_data:\n",
    "        def __init__(self):\n",
    "            self.die_size_x = 0\n",
    "            self.die_size_y = 0\n",
    "            self.pixel_size_x = 0\n",
    "            self.pixel_size_y = 0\n",
    "            self.diagonal = 0\n",
    "            self.circle_of_confusion = 0\n",
    "            self.circle_of_confusion_method = \"Modern\"\n",
    "\n",
    "    @ureg.wraps(None, (None, 'mm','mm','micrometer','micrometer'))\n",
    "    def __init__(self, die_size_x,die_size_y, pixel_size_x,pixel_size_y):\n",
    "        # system setup\n",
    "        self.initialize_help_system()\n",
    "        self.__dict__['class_preamble'] = self.__class__.__name__\n",
    "        self.__dict__['pod_name'] = \"sensor_data\"\n",
    "        self.__dict__[self.pod_name] = self.Raw_sensor_data()\n",
    "        #class variable setup\n",
    "        self.sensor_data.die_size_x = die_size_x*ureg.mm\n",
    "        self.sensor_data.die_size_y = die_size_y*ureg.mm\n",
    "        self.sensor_data.diagonal = self.__diagonal()\n",
    "        self.sensor_data.pixel_size_x = 2.7 *ureg.micrometer\n",
    "        self.sensor_data.pixel_size_y = 2.7 *ureg.micrometer\n",
    "        self.sensor_data.circle_of_confusion_method = \"Modern\"\n",
    "        self.sensor_data.circle_of_confusion = self.__circle_of_confusion(frame_diagonal=self.diagonal, focal_length=0*ureg.mm, method=self.sensor_data.circle_of_confusion_method)\n",
    "\n",
    "\n",
    "    @ureg.wraps('mm',(None))\n",
    "    def __diagonal(self):\n",
    "        return math.sqrt( math.pow(self.sensor_data.die_size_x.magnitude,2) + math.pow(self.sensor_data.die_size_y.magnitude,2) )*ureg.mm\n",
    "\n",
    "\n",
    "    def circle_of_confusion_help(self)->None:\n",
    "        print(HTML(\"<H2>Circle of Confusion</H2>\"))\n",
    "        print(HTML(\"Modern, Standard Method (Default)\tFrame’s diagonal / 1500\"))\n",
    "        print(HTML(\"Zeiss, Formula\tFrame’s diagonal / 1730\"))\n",
    "        print(HTML(\"Kodak, Formula\tFocal length / 1720\"))\n",
    "        print(HTML(\"Archaic, Standard\tFrame’s diagonal / 1000\"))\n",
    "        print(HTML(\"<code> circle_confusion(frame_diagonal,focal_length,method = 'modern')</code>\"))\n",
    "        return 1\n",
    "\n",
    "    def set_circle_of_confusion_method(self,method=\"modern\",*args, **kwargs):\n",
    "        coc_method = [ \"modern\", \"zeiss\",\"kodak\", \"archaic\" ]\n",
    "        if method not in coc_method:\n",
    "            raise ValueError(\"Circle of confusion method not supported\")\n",
    "        self.sensor_data.circle_of_confusion_method = method\n",
    "        focal_length = None\n",
    "        if method == \"archaic\":\n",
    "            #search for a lens\n",
    "            if \"focal_length\" in kwargs:\n",
    "                if isinstance(kwargs[\"focal_length\"], Lens ):\n",
    "                    print(\"got a lens object\")\n",
    "                    focal_length == kwargs[\"focal_length\"].focal_length\n",
    "                elif isinstance(kwargs[\"focal_length\"], ureg.mm):\n",
    "                    print(\"got a length in mm\")\n",
    "                    focal_length == kwargs[\"focal_length\"]*ureg.mm\n",
    "                elif isinstance(in_arg, (int, float, long)):\n",
    "                    focal_length = in_arg*ureg.mm\n",
    "            else:\n",
    "                for in_arg in args:\n",
    "                    if isinstance(in_arg,Lens):\n",
    "                        focal_length = in_arg.focal_length\n",
    "                    elif isinstance(in_arg, ureg.mm):\n",
    "                        focal_length = in_arg\n",
    "                    elif isinstance(in_arg, (int, float, long)):\n",
    "                        focal_length = in_arg*ureg.mm\n",
    "            #ok if were still dont have something valid raise an error\n",
    "            if focal_length  is None:\n",
    "                raise ValueError(\"Focal Length must be specified and greater than 0\")\n",
    "            print(f\"focal length used is:{focal_length}\")\n",
    "        if focal_length is None:\n",
    "            #at this point just ignore focal lenght\n",
    "            focal_length = 0.0*ureg.mm\n",
    "        self.sensor_data.circle_of_confusion = self.__circle_of_confusion(frame_diagonal=self.diagonal, focal_length=focal_length, method=self.sensor_data.circle_of_confusion_method)\n",
    "\n",
    "    @ureg.wraps(ureg.coc, (None, 'mm','mm',None))\n",
    "    def __circle_of_confusion(self,frame_diagonal, focal_length, method):\n",
    "        def modern(frame_diagonal, ignore):\n",
    "            return frame_diagonal/1500\n",
    "        def zeiss(frame_diagonal, ignore):\n",
    "            return frame_diagonal/1730\n",
    "        def kodak(ignore, focal_length):\n",
    "            return focal_length/1720\n",
    "        def archaic(frame_diagonal, ignore):\n",
    "            return focal_length/1000\n",
    "\n",
    "        coc_method = { \"modern\": modern,\n",
    "                      \"zeiss\": zeiss,\n",
    "                      \"kodak\": kodak,\n",
    "                      \"archaic\": archaic}\n",
    "        if method.lower() not in coc_method:\n",
    "            raise ValueError(f\"Unknown Circle of Confusion Method {method}\")\n",
    "\n",
    "        #if focal_length\n",
    "        coc = coc_method.get(method.lower())(frame_diagonal,focal_length)\n",
    "        return coc * ureg('coc')"
   ]
  },
  {
   "cell_type": "code",
   "execution_count": null,
   "metadata": {},
   "outputs": [],
   "source": [
    "#export\n",
    "class Lens(POD_as_top_level_attributes, Help_system):\n",
    "    class Raw_lens_data():\n",
    "        def __init__(self):\n",
    "            self.focal_length = 0*ureg.mm\n",
    "            self.aperture = 0*ureg.mm\n",
    "\n",
    "    @ureg.wraps(None,(None,'mm','Aperture'))\n",
    "    def __init__(self, focal_length, aperture):\n",
    "        # system setup\n",
    "        self.initialize_help_system()\n",
    "        self.__dict__['class_preamble'] = self.__class__.__name__\n",
    "        self.__dict__['pod_name'] = \"lens_data\"\n",
    "        self.__dict__[self.pod_name] = self.Raw_lens_data()\n",
    "\n",
    "        self.lens_data.focal_length = focal_length*ureg.mm\n",
    "        self.lens_data.aperture = aperture*ureg.Aperture\n",
    "        print(self.lens_data.focal_length)\n",
    "\n",
    "    def angle_of_view_help(self):\n",
    "        print(HTML(\"<h2>Angle of view</h2>\"))\n",
    "        print(HTML(\"<span>Figures out the witdh of the angle of view, given sensor / lens characteristics.</span>\"))\n",
    "        print(self.wrap_unit(r\"\\theta=2\\cdot\\arctan\\left(\\frac{h(s-f)}{2sf}\\right)\",\"math\"))\n",
    "        print(HTML(\"<code> angle_of_view(frame_dimension, focal_length, focus_distance)</code>\"))\n",
    "\n",
    "    @ureg.wraps(ureg.radians, (None, 'mm','mm','mm' ))\n",
    "    def angle_of_view(self, frame_dimension, focal_length, focus_distance):\n",
    "        if self.echo_params:\n",
    "            print(HTML(f\"<code>Frame Dimension {frame_dimension} </br>Focal Length {focal_length}</br>Focus Distance {focus_distance}</code>\"))\n",
    "        aov = 2.0 * math.atan((frame_dimension * (focus_distance - focal_length))/(2*focus_distance*focal_length))\n",
    "        if self.echo_params:\n",
    "            print(HTML(f\"<span>Angle of View :{aov}\"))\n",
    "        return aov\n",
    "\n",
    "    def field_of_view_help(self):\n",
    "        print(self.wrap_unit(\"<h2>Field of View</h2>\",\"html\"))\n",
    "        print(self.wrap_unit(\"<a> implementation of this equation </a>\",\"html\"))\n",
    "        print(self.wrap_unit(r'w=2s\\cdot\\tan\\left(\\frac{\\theta}{2}\\right)',\"Math\"))\n",
    "\n",
    "    @ureg.wraps(ureg.meters, (None, 'm', 'rad') )\n",
    "    def field_of_view(self, focus_distance, angle_of_view):\n",
    "        view_width = 2*focus_distance*math.tan( angle_of_view / 2.0)\n",
    "        return view_width\n",
    "\n",
    "    def hyperfocal_distance_help(self):\n",
    "        print(HTML(\"<H2>Hyperfocal Distance</H2>\"))\n",
    "        print(HTML(\"<span> calculates hyperfocal distance\"))\n",
    "        print(self.wrap_unit(r\"H=\\frac{f^{2}}{N\\cdot{c}}+f\",\"Math\"))\n",
    "\n",
    "    @ureg.wraps(ureg.meters, (None, 'mm','fnumber','coc'))\n",
    "    def hyperfocal_distance(self, focal_length, f_number, circle_of_confusion=-1):\n",
    "        if type(circle_of_confusion) == type( Sensor ):\n",
    "            this_circle_of_confusion = circle_of_confusion.circle_of_confusion\n",
    "        elif type(circle_of_confusion) == type(int):\n",
    "            this_circle_of_confusion = circle_of_confusion\n",
    "\n",
    "        if type(f_number) == type ( Lens):\n",
    "            this_fnumber = f_number.aperture\n",
    "        elif type(f_number) == type( int ):\n",
    "            this_fnumber = f_number\n",
    "\n",
    "        hfd = (focal_length*focal_length)/(this_f_number*this_circle_of_confusion)+focal_length\n",
    "        return hfd"
   ]
  },
  {
   "cell_type": "code",
   "execution_count": null,
   "metadata": {},
   "outputs": [],
   "source": []
  },
  {
   "cell_type": "code",
   "execution_count": null,
   "metadata": {},
   "outputs": [],
   "source": [
    "#export\n",
    "class aPyopticum(Help_system):\n",
    "    \"\"\"\n",
    "    Initial class to hold optical formula's etc\n",
    "\n",
    "    \"\"\"\n",
    "\n",
    "    ###################################################################################################################\n",
    "    def __init__(self, echo_params = False):\n",
    "        #system setup\n",
    "        self.initialize_help_system()\n",
    "        #direct setup\n",
    "        self.data = []\n",
    "        self.echo_params = echo_params\n",
    "\n",
    "\n",
    "\n",
    "    def about(self):\n",
    "        \"\"\"\n",
    "        about this library and usage\n",
    "        \"\"\"\n",
    "        print(self.wrap_unit(\"<h1>Pyopticum</h1>\",\"html\"))\n",
    "        print(self.wrap_unit(\"see <a href='https://github.com/jlovick/Pyopticum'> Pyopticum </a> for source\",\"html\"))"
   ]
  },
  {
   "cell_type": "code",
   "execution_count": null,
   "metadata": {},
   "outputs": [
    {
     "name": "stdout",
     "output_type": "stream",
     "text": [
      "Converted 00_core.ipynb.\n",
      "Converted index.ipynb.\n"
     ]
    }
   ],
   "source": [
    "from nbdev.export import *\n",
    "notebook2script()"
   ]
  },
  {
   "cell_type": "code",
   "execution_count": null,
   "metadata": {},
   "outputs": [
    {
     "data": {
      "text/html": [
       "<h1>Pyopticum</h1>"
      ],
      "text/plain": [
       "<IPython.core.display.HTML object>"
      ]
     },
     "metadata": {},
     "output_type": "display_data"
    },
    {
     "data": {
      "text/html": [
       "see <a href='https://github.com/jlovick/Pyopticum'> Pyopticum </a> for source"
      ],
      "text/plain": [
       "<IPython.core.display.HTML object>"
      ]
     },
     "metadata": {},
     "output_type": "display_data"
    }
   ],
   "source": [
    "pc = aPyopticum()\n",
    "pc.about()"
   ]
  },
  {
   "cell_type": "code",
   "execution_count": null,
   "metadata": {},
   "outputs": [],
   "source": []
  },
  {
   "cell_type": "code",
   "execution_count": null,
   "metadata": {},
   "outputs": [],
   "source": [
    "def test_can_create_lens():\n",
    "    mylens = Lens((40 * ureg.mm) ,(2.4*ureg.Aperture))"
   ]
  },
  {
   "cell_type": "code",
   "execution_count": null,
   "metadata": {},
   "outputs": [],
   "source": [
    "\n",
    "def test_cant_create_lens_without_unit():\n",
    "    with pytest.raises(Exception) as e_info:\n",
    "        mylens = Lens(40,2.4)"
   ]
  },
  {
   "cell_type": "code",
   "execution_count": null,
   "metadata": {},
   "outputs": [],
   "source": [
    "def test_focal_length_has_mm_units(self):\n",
    "    mylens = Lens((40 * ureg.mm) ,(2.4*ureg.Aperture))\n",
    "    assert mylens.focal_length == (40*ureg.mm)\n"
   ]
  },
  {
   "cell_type": "code",
   "execution_count": null,
   "metadata": {},
   "outputs": [],
   "source": [
    "def test_can_create_sensor():\n",
    "    mysensor = Sensor(13*ureg.mm,11*ureg.mm, 2.7*ureg.micrometer, 2.7*ureg.micrometer)"
   ]
  },
  {
   "cell_type": "code",
   "execution_count": null,
   "metadata": {},
   "outputs": [],
   "source": [
    "def test_cicle_of_confusion_default():\n",
    "    mysensor = Sensor(13*ureg.mm,11*ureg.mm, 2.7*ureg.micrometer, 2.7*ureg.micrometer)\n",
    "    assert mysensor.circle_of_confusion == (0.011352924243950934* ureg.Circle_of_confusion)"
   ]
  },
  {
   "cell_type": "code",
   "execution_count": null,
   "metadata": {},
   "outputs": [],
   "source": [
    "def test_zeiss_circle_of_confusion():\n",
    "    mysensor = Sensor(13*ureg.mm,11*ureg.mm, 2.7*ureg.micrometer, 2.7*ureg.micrometer)\n",
    "    mylens = Lens((40 * ureg.mm) ,(2.4*ureg.Aperture))\n",
    "    mysensor.set_circle_of_confusion_method(\"archaic\", mylens)\n",
    "    assert mysensor.circle_of_confusion == 0.04*ureg.Circle_of_confusion"
   ]
  },
  {
   "cell_type": "code",
   "execution_count": null,
   "metadata": {},
   "outputs": [],
   "source": [
    "def test_sensor_diagonal():\n",
    "    mysensor = Sensor(13*ureg.mm,11*ureg.mm, 2.7*ureg.micrometer, 2.7*ureg.micrometer)\n",
    "    assert mysensor.diagonal == 17.029386365926403 * ureg.mm"
   ]
  },
  {
   "cell_type": "code",
   "execution_count": null,
   "metadata": {},
   "outputs": [],
   "source": [
    "def test_zeiss_circle_of_confusion():\n",
    "    mysensor = Sensor(13*ureg.mm,11*ureg.mm, 2.7*ureg.micrometer, 2.7*ureg.micrometer)\n",
    "    mysensor.set_circle_of_confusion_method(\"zeiss\")\n",
    "    assert mysensor.circle_of_confusion == 0.009843575934061504*ureg.Circle_of_confusion"
   ]
  },
  {
   "cell_type": "code",
   "execution_count": null,
   "metadata": {},
   "outputs": [],
   "source": []
  },
  {
   "cell_type": "code",
   "execution_count": null,
   "metadata": {},
   "outputs": [
    {
     "data": {
      "text/html": [
       "40.0 millimeter"
      ],
      "text/latex": [
       "$40.0\\ \\mathrm{millimeter}$"
      ],
      "text/plain": [
       "40.0 <Unit('millimeter')>"
      ]
     },
     "metadata": {},
     "output_type": "display_data"
    },
    {
     "name": "stdout",
     "output_type": "stream",
     "text": [
      "\u001b[32m.\u001b[0m\u001b[32m.\u001b[0m\u001b[31mE\u001b[0m\u001b[32m.\u001b[0m\u001b[32m.\u001b[0m\u001b[32m.\u001b[0m\u001b[32m.\u001b[0m\u001b[31m                                                                                      [100%]\u001b[0m\n",
      "============================================== ERRORS ==============================================\n",
      "\u001b[31m\u001b[1m_________________________ ERROR at setup of test_focal_length_has_mm_units _________________________\u001b[0m\n",
      "file /tmp/xpython_31962/1847637024.py, line 1\n",
      "  def test_focal_length_has_mm_units(self):\n",
      "\u001b[31mE       fixture 'self' not found\u001b[0m\n",
      "\u001b[31m>       available fixtures: anyio_backend, anyio_backend_name, anyio_backend_options, cache, capfd, capfdbinary, caplog, capsys, capsysbinary, doctest_namespace, monkeypatch, pytestconfig, record_property, record_testsuite_property, record_xml_attribute, recwarn, tmp_path, tmp_path_factory, tmpdir, tmpdir_factory\u001b[0m\n",
      "\u001b[31m>       use 'pytest --fixtures [testpath]' for help on them.\u001b[0m\n",
      "\n",
      "/tmp/xpython_31962/1847637024.py:1\n",
      "===================================== short test summary info ======================================\n",
      "ERROR tmpxqk2t9q1.py::test_focal_length_has_mm_units\n",
      "\u001b[31m\u001b[32m6 passed\u001b[0m, \u001b[31m\u001b[1m1 error\u001b[0m\u001b[31m in 1.04s\u001b[0m\u001b[0m\n"
     ]
    }
   ],
   "source": [
    "ipytest.run()"
   ]
  },
  {
   "cell_type": "code",
   "execution_count": null,
   "metadata": {},
   "outputs": [],
   "source": []
  },
  {
   "cell_type": "code",
   "execution_count": null,
   "metadata": {},
   "outputs": [],
   "source": []
  },
  {
   "cell_type": "code",
   "execution_count": null,
   "metadata": {},
   "outputs": [],
   "source": []
  },
  {
   "cell_type": "code",
   "execution_count": null,
   "metadata": {},
   "outputs": [],
   "source": []
  },
  {
   "cell_type": "code",
   "execution_count": null,
   "metadata": {},
   "outputs": [],
   "source": []
  },
  {
   "cell_type": "code",
   "execution_count": null,
   "metadata": {},
   "outputs": [],
   "source": []
  },
  {
   "cell_type": "code",
   "execution_count": null,
   "metadata": {},
   "outputs": [],
   "source": [
    "\n"
   ]
  },
  {
   "cell_type": "code",
   "execution_count": null,
   "metadata": {},
   "outputs": [],
   "source": []
  },
  {
   "cell_type": "code",
   "execution_count": null,
   "metadata": {},
   "outputs": [],
   "source": []
  },
  {
   "cell_type": "code",
   "execution_count": null,
   "metadata": {},
   "outputs": [],
   "source": []
  }
 ],
 "metadata": {
  "kernelspec": {
   "display_name": "Python 3.8 (XPython)",
   "language": "python",
   "name": "xpython"
  }
 },
 "nbformat": 4,
 "nbformat_minor": 4
}
